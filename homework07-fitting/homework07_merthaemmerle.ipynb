{
 "cells": [
  {
   "cell_type": "markdown",
   "metadata": {},
   "source": [
    "# Homework 07"
   ]
  },
  {
   "cell_type": "markdown",
   "metadata": {},
   "source": [
    "### Preparation...\n",
    "\n",
    "Run this code from the lecture to be ready for the exercises below!"
   ]
  },
  {
   "cell_type": "code",
   "execution_count": 1,
   "metadata": {},
   "outputs": [],
   "source": [
    "import glob\n",
    "import os.path\n",
    "\n",
    "import numpy as np\n",
    "import pandas as pd\n",
    "import matplotlib.pyplot as plt\n",
    "\n",
    "\n",
    "from sklearn import datasets, linear_model, ensemble, neural_network\n",
    "from sklearn.metrics import mean_squared_error, r2_score\n",
    "from sklearn.model_selection import train_test_split\n",
    "\n",
    "from pathlib import Path"
   ]
  },
  {
   "cell_type": "code",
   "execution_count": 2,
   "metadata": {},
   "outputs": [],
   "source": [
    "CONFIG_FILE = 'c:/users/MertKeles/scientific computing/homework-scientific-computing/entsoe-dataconfig'\n",
    "\n",
    "if not os.path.exists(CONFIG_FILE):\n",
    "    download_dir = input('Path to ENTSO-E data folder: ')\n",
    "    if not os.path.isdir(download_dir):\n",
    "        raise RuntimeError(f'Invalid download_dir, please run cell again: {download_dir}')\n",
    "    with open(CONFIG_FILE, 'w') as f:\n",
    "        f.write(download_dir)\n",
    "else:\n",
    "    with open(CONFIG_FILE) as f:\n",
    "        download_dir = f.read()\n",
    "        \n",
    "# Clear the output after this cell if you want to aovid having your path in the notebook (or execute it twice)!"
   ]
  },
  {
   "cell_type": "code",
   "execution_count": 3,
   "metadata": {},
   "outputs": [
    {
     "name": "stdout",
     "output_type": "stream",
     "text": [
      "Concatenating 68 csv files...\n",
      "Loading done.\n"
     ]
    }
   ],
   "source": [
    "def read_single_csv_entso_e(file):\n",
    "    return pd.read_csv(file, sep='\\t', encoding='utf-16', parse_dates=[\"DateTime\"])\n",
    "\n",
    "\n",
    "def load_complete_entso_e_data(directory):\n",
    "    pattern = Path(directory) / '*.csv'\n",
    "    files = glob.glob(str(pattern))\n",
    "\n",
    "    if not files:\n",
    "        raise ValueError(f\"No files found when searching in {pattern}, wrong directory?\")\n",
    "    \n",
    "    print(f'Concatenating {len(files)} csv files...')\n",
    "\n",
    "    each_csv_file = [read_single_csv_entso_e(file) for file in files]\n",
    "    data = pd.concat(each_csv_file, ignore_index=True)\n",
    "\n",
    "    data = data.sort_values(by=[\"AreaName\", \"DateTime\"])\n",
    "    data = data.set_index(\"DateTime\")\n",
    "\n",
    "    print(\"Loading done.\")\n",
    "\n",
    "    return data\n",
    "\n",
    "\n",
    "power_demand = load_complete_entso_e_data(download_dir)"
   ]
  },
  {
   "cell_type": "code",
   "execution_count": 4,
   "metadata": {},
   "outputs": [],
   "source": [
    "def get_hourly_country_data(data, country):\n",
    "    ret_data = data[data[\"AreaName\"] == country].interpolate()\n",
    "    #ret_data = ret_data.set_index(\"DateTime\")\n",
    "    ret_data = ret_data.resample(\"1h\").mean().interpolate()\n",
    "    return ret_data\n",
    "\n",
    "power_demand_at_hourly = get_hourly_country_data(power_demand, \"Austria\")[\"2015-01-01\":\"2019-12-31\"]"
   ]
  },
  {
   "cell_type": "markdown",
   "metadata": {},
   "source": [
    "## Exercise 1\n",
    "\n",
    "Explain the following terms:\n",
    "\n",
    "**Input feature:** < data input, characteristics, etc.; variable given in a function >\n",
    "\n",
    "**Output feature:** < is the variable we want to predict(know)-> with given Input-Data >\n",
    "\n",
    "**Fit a function to data:** < is used to find the optimal data for representing the data >\n",
    "\n",
    "**Training data:** < is used to train the model to predict outcomes >\n",
    "\n",
    "**Test data:** < the part of data that tests the accuracy of the data >\n",
    "\n",
    "\n",
    "    "
   ]
  },
  {
   "cell_type": "markdown",
   "metadata": {},
   "source": [
    "## Exercise 2\n",
    "\n",
    "In lecture07 we created a plot of the ratio of actual load and predicted load for Austria step by step (Exercise 04). Now put all of this together in one function which takes one parameter `country` as input and calculates and plots the figure of Exercise 04 for this country! The model should be trained on 2015-2019 data and then you should predict for 2020 and compare it to observations. Also do a training/test split and print the R2 for both datasets.\n",
    "\n",
    "Apply the function to the following countries and show the results in one plot: Austria, Germany, Switzerland, Italy, Spain, Sweden, United Kingdom.\n",
    "\n",
    "(1) Print the country name. Get the data for the specific country using ```get_hourly_country_data``` from the lecture and extract two periods, i.e 2015-2019 and 2020 in two separate dataframes.\n",
    "\n",
    "(2) Define X (the input features, i.e. the indicators for time) and Y (i.e. the output feature, the electricity load). Observe that for training, we use the period 2015-2019.\n",
    "\n",
    "(3) Do a train/test split\n",
    "\n",
    "(4) Fit the input features to the output feature using a ```RandomForestRegressor```\n",
    "\n",
    "(5) Predict the output with the training data and the test data and compute the R^2 for both!\n",
    "\n",
    "(6) Print the R^2.\n",
    "\n",
    "(7) Create a new variable ```X_2020``` which contains the input features for the year 2020.\n",
    "\n",
    "(8) Predict with your model the load for 2020.\n",
    "\n",
    "(9) Assign your prediction back to the dataframe in a new column and calculate the monthly mean for prediction and for observed load. You might need to copy the dataframe first by doing something like `power_demand_hourly = power_demand_hourly.copy()` (otherwise it might be just a slice of the complete time range and then you can't add a column for some rows only).\n",
    "\n",
    "(10) Plot the ratio of load and prediction. With ```label=country```, you can add a label to your plot for making a legend.\n",
    "\n",
    "(11) Execute the function for the following countries: Austria, Germany, Switzerland, Italy, Spain, Sweden, United Kingdom.\n",
    "\n",
    "(12) After calling the functions, use ```plt.legend()``` to show a legend."
   ]
  },
  {
   "cell_type": "code",
   "execution_count": 5,
   "metadata": {},
   "outputs": [
    {
     "name": "stdout",
     "output_type": "stream",
     "text": [
      "Austria\n",
      "0.9918453719046049\n",
      "0.9393562209863748\n",
      "Germany\n",
      "0.9936571711276454\n",
      "0.9529116247583936\n",
      "Switzerland\n",
      "0.9825060085874019\n",
      "0.8768116200224467\n",
      "Italy\n",
      "0.9961665382279844\n",
      "0.9711353072350598\n",
      "Spain\n",
      "0.9925720609957953\n",
      "0.947032166691815\n",
      "Sweden\n",
      "0.9924501628248605\n",
      "0.9482850881364001\n",
      "United Kingdom\n",
      "0.9771896268863399\n",
      "0.8460573147237559\n"
     ]
    },
    {
     "data": {
      "text/plain": [
       "<matplotlib.legend.Legend at 0x242a1f71348>"
      ]
     },
     "execution_count": 5,
     "metadata": {},
     "output_type": "execute_result"
    },
    {
     "data": {
      "image/png": "[encoded data removed]",
      "text/plain": [
       "<Figure size 432x288 with 1 Axes>"
      ]
     },
     "metadata": {
      "needs_background": "light"
     },
     "output_type": "display_data"
    }
   ],
   "source": [
    "def ratio_obs_pred(country):\n",
    "    print(country)\n",
    "    power_demand_country_hourly = get_hourly_country_data(power_demand, country)[\"2015-01-01\":\"2019-12-31\"]\n",
    "    power_demand_country_hourly_2020 =  get_hourly_country_data(power_demand, country)[\"2020-01-01\":\"2020-05-31\"]\n",
    "    Y = power_demand_country_hourly[\"TotalLoadValue\"].values #we want to predict this\n",
    "    X = np.array([power_demand_country_hourly.index.dayofyear.values,\n",
    "    power_demand_country_hourly.index.weekday.values,\n",
    "    power_demand_country_hourly.index.hour.values]).T\n",
    "    X_training, X_test, Y_training, Y_test = train_test_split(X, Y, test_size=0.2)\n",
    "    forest_split_set = ensemble.RandomForestRegressor()\n",
    "    forest_split_set.fit(X_training, Y_training)\n",
    "    prediction_training = forest_split_set.predict(X_training)\n",
    "    prediction_test = forest_split_set.predict(X_test)\n",
    "    print(r2_score(Y_training, prediction_training))\n",
    "    print(r2_score(Y_test, prediction_test))\n",
    "    X_2020 = np.array([power_demand_country_hourly_2020.index.dayofyear.values,\n",
    "        power_demand_country_hourly_2020.index.weekday.values,\n",
    "        power_demand_country_hourly_2020.index.hour.values]).T\n",
    "    prediction_2020 = forest_split_set.predict(X_2020)\n",
    "    power_demand_hourly = power_demand_country_hourly_2020.copy()\n",
    "    power_demand_hourly[\"pred_2020\"] = prediction_2020\n",
    "    obs = power_demand_hourly.resample(\"1m\").mean()[\"TotalLoadValue\"]\n",
    "    pred = power_demand_hourly.resample(\"1m\").mean()[\"pred_2020\"]\n",
    "    ratio = obs/pred\n",
    "    ratio.plot(label=country)\n",
    "    return ratio.plot\n",
    "\n",
    "\n",
    "result = ratio_obs_pred(\"Austria\")\n",
    "result = ratio_obs_pred(\"Germany\")\n",
    "result = ratio_obs_pred(\"Switzerland\")\n",
    "result = ratio_obs_pred(\"Italy\")\n",
    "result = ratio_obs_pred(\"Spain\")\n",
    "result = ratio_obs_pred(\"Sweden\")\n",
    "result = ratio_obs_pred(\"United Kingdom\")\n",
    "plt.legend()"
   ]
  },
  {
   "cell_type": "markdown",
   "metadata": {},
   "source": [
    "## Exercise 3\n",
    "Answer the following questions:"
   ]
  },
  {
   "cell_type": "markdown",
   "metadata": {},
   "source": [
    "(1) Which country had the strongest decline in electricity consumption?"
   ]
  },
  {
   "cell_type": "markdown",
   "metadata": {},
   "source": [
    "< Italy >"
   ]
  },
  {
   "cell_type": "markdown",
   "metadata": {},
   "source": [
    "(2) For which country does the fit work best?"
   ]
  },
  {
   "cell_type": "markdown",
   "metadata": {},
   "source": [
    "< Italy >"
   ]
  },
  {
   "cell_type": "markdown",
   "metadata": {},
   "source": [
    "(3) Where is the difference of R2 between training data and test data the largest? What does that mean?"
   ]
  },
  {
   "cell_type": "markdown",
   "metadata": {},
   "source": [
    "< United Kingdom -> not fitting(not accurate) >"
   ]
  },
  {
   "cell_type": "markdown",
   "metadata": {},
   "source": [
    "(4) Look into the data of the country with the largest difference in the R2 of the training and the test data. Can you explain what is happening there? Might this effect our model?"
   ]
  },
  {
   "cell_type": "code",
   "execution_count": 6,
   "metadata": {},
   "outputs": [
    {
     "data": {
      "text/plain": [
       "<matplotlib.axes._subplots.AxesSubplot at 0x242972b9f48>"
      ]
     },
     "execution_count": 6,
     "metadata": {},
     "output_type": "execute_result"
    },
    {
     "data": {
      "image/png": "[encoded data removed]",
      "text/plain": [
       "<Figure size 432x288 with 1 Axes>"
      ]
     },
     "metadata": {
      "needs_background": "light"
     },
     "output_type": "display_data"
    }
   ],
   "source": [
    "power_demand_uk = get_hourly_country_data(power_demand, \"United Kingdom\")[\"2015-01-01\":\"2019-12-31\"]\n",
    "power_demand_uk.TotalLoadValue.plot()"
   ]
  },
  {
   "cell_type": "markdown",
   "metadata": {},
   "source": [
    "< data missing in 2017 and 2018 >"
   ]
  },
  {
   "cell_type": "markdown",
   "metadata": {},
   "source": [
    "## Exercise 4"
   ]
  },
  {
   "cell_type": "markdown",
   "metadata": {},
   "source": [
    "The difference between model prediction and actual observation may help understanding how people behaved during the lockdown. In this exercise, you should come up with your own hypothesis of how people behaved and how this affected power consumption. You may, e.g., look into demand on different weekdays or in different hours. Once you have a hypothesis and a theory, why this hypothesis may be valid, test it with the model: is your hypothesis covered by what you observe in the load data?"
   ]
  },
  {
   "cell_type": "markdown",
   "metadata": {},
   "source": [
    "## Exercise 5\n",
    "\n",
    "Download ERA5 temperature data for the next lecture.\n",
    "\n",
    "First install necessary dependencies `xarray` and `cdsapi`:"
   ]
  },
  {
   "cell_type": "code",
   "execution_count": 66,
   "metadata": {},
   "outputs": [],
   "source": [
    "##conda install --yes xarray\n",
    "##conda install --yes -c conda-forge cdsapi"
   ]
  },
  {
   "cell_type": "markdown",
   "metadata": {},
   "source": [
    "The [Copernicus Climate Data Store](https://cds.climate.copernicus.eu/) provides [reanalysis climate data](https://cds.climate.copernicus.eu/cdsapp#!/search?type=dataset&keywords=((%20%22Product%20type:%20Reanalysis%22%20))). We are going to download [ERA5](https://cds.climate.copernicus.eu/cdsapp#!/dataset/reanalysis-era5-land?tab=form) data and use the [temperature 2m above ground values](https://apps.ecmwf.int/codes/grib/param-db?id=167)."
   ]
  },
  {
   "cell_type": "markdown",
   "metadata": {},
   "source": [
    "Register for the CDS API and install the API key by following [this guide](https://cds.climate.copernicus.eu/api-how-to). You don't need to run `pip install cdsapi`, this has been done in the cell above already using conda."
   ]
  },
  {
   "cell_type": "code",
   "execution_count": 59,
   "metadata": {},
   "outputs": [],
   "source": [
    "import cdsapi\n",
    "\n",
    "c = cdsapi.Client()"
   ]
  },
  {
   "cell_type": "code",
   "execution_count": 63,
   "metadata": {},
   "outputs": [],
   "source": [
    "# Add the path to the lecture repository here:\n",
    "PATH_TO_LECTURE_REPO = r'C:\\Users\\MertKeles\\scientific computing\\lecture-scientific-computing'\n",
    "\n",
    "if not os.path.isdir(Path(PATH_TO_LECTURE_REPO) / 'lecture00-introduction'):\n",
    "    raise RuntimeError(f\"Wrong path to lecture repository: PATH_TO_LECTURE_REPO = {PATH_TO_LECTURE_REPO}\")"
   ]
  },
  {
   "cell_type": "markdown",
   "metadata": {},
   "source": [
    "We'll download data from 2015 to 2020 in a bounding box which covers all countries we used so far for our analysis.\n",
    "To make the download a bit faster, we'll use a [0.5° grid](https://confluence.ecmwf.int/display/CKB/ERA5%3A+Web+API+to+CDS+API) instead of the 0.1° grid. This will download approximately 500MB. The download might take a couple of hours, because the data is prepared on their servers before it can be downloaded."
   ]
  },
  {
   "cell_type": "code",
   "execution_count": 64,
   "metadata": {
    "scrolled": true
   },
   "outputs": [
    {
     "name": "stderr",
     "output_type": "stream",
     "text": [
      "2020-06-03 17:09:45,613 INFO Welcome to the CDS\n",
      "2020-06-03 17:09:45,614 INFO Sending request to https://cds.climate.copernicus.eu/api/v2/resources/reanalysis-era5-land\n",
      "2020-06-03 17:09:47,438 INFO Request is completed\n",
      "2020-06-03 17:09:47,440 INFO Downloading http://136.156.132.201/cache-compute-0004/cache/data2/adaptor.mars.internal-1591183051.143155-14109-29-85466677-b2b7-422c-8304-0a46d57630dc.nc to C:\\Users\\MertKeles\\scientific computing\\lecture-scientific-computing\\data\\temperatures_era5.nc.part (473.2M)\n",
      "2020-06-03 17:13:12,281 INFO Download rate 2.3M/s  \n"
     ]
    }
   ],
   "source": [
    "filename = Path(PATH_TO_LECTURE_REPO) / 'data' / 'temperatures_era5.nc'\n",
    "\n",
    "north, west, south, east = 70.,-13.5, 35.5, 24.5\n",
    "\n",
    "c.retrieve(\n",
    "    'reanalysis-era5-land',\n",
    "    {\n",
    "        'format': 'netcdf',\n",
    "        'variable': '2m_temperature',\n",
    "        'area': [\n",
    "            north, west, south, east\n",
    "        ],\n",
    "        'grid': [0.5, 0.5],  # grid in 0.5deg steps in longitude/latitude\n",
    "        'day': [f\"{day:02d}\" for day in range(1, 32)],\n",
    "        'time': [f\"{hour:02d}:00\" for hour in range(24)],\n",
    "        'month': [f\"{month:02d}\" for month in range(1, 13)],\n",
    "        'year': [str(year) for year in range(2015, 2021)],\n",
    "    },\n",
    "    f\"{filename}.part\")\n",
    "\n",
    "# this prevents you from accidentally using broken files:\n",
    "os.rename(f\"{filename}.part\", filename)"
   ]
  },
  {
   "cell_type": "markdown",
   "metadata": {},
   "source": [
    "## Exercise 6\n",
    "\n",
    "Load the file downloaded in exercise 3 and plot the temperature for one location. This is also a test if the download was successful. To load the file import the library `xarray`. Typically it is imported by using `import xarray as xr`. Then load the file using the command `xr.load_dataset(filename)`. Check the type of the return value. Then select the data variable `t2m` (temperature at 2m), select the values for `longitude=16.5` and `latitude=48` by using `temperatures_dataset.t2m.sel(longitude=16.5, latitude=48.)`. Then plot the result by calling `.plot()` on the resulting object.\n",
    "\n",
    "Does the result look reasonable?"
   ]
  },
  {
   "cell_type": "code",
   "execution_count": 65,
   "metadata": {},
   "outputs": [
    {
     "data": {
      "text/plain": [
       "[<matplotlib.lines.Line2D at 0x242962bcdc8>]"
      ]
     },
     "execution_count": 65,
     "metadata": {},
     "output_type": "execute_result"
    },
    {
     "data": {
      "image/png": "[encoded data removed]",
      "text/plain": [
       "<Figure size 432x288 with 1 Axes>"
      ]
     },
     "metadata": {
      "needs_background": "light"
     },
     "output_type": "display_data"
    }
   ],
   "source": [
    "import xarray as xr\n",
    "temperatures_dataset = xr.load_dataset(filename)\n",
    "\n",
    "data = temperatures_dataset.t2m.sel(longitude=16.5, latitude=48.)\n",
    "data.plot()"
   ]
  },
  {
   "cell_type": "code",
   "execution_count": null,
   "metadata": {},
   "outputs": [],
   "source": []
  }
 ],
 "metadata": {
  "kernelspec": {
   "display_name": "Python 3",
   "language": "python",
   "name": "python3"
  },
  "language_info": {
   "codemirror_mode": {
    "name": "ipython",
    "version": 3
   },
   "file_extension": ".py",
   "mimetype": "text/x-python",
   "name": "python",
   "nbconvert_exporter": "python",
   "pygments_lexer": "ipython3",
   "version": "3.7.6"
  }
 },
 "nbformat": 4,
 "nbformat_minor": 4
}
