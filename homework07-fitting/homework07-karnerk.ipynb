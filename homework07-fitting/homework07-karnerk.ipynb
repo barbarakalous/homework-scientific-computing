{
 "cells": [
  {
   "cell_type": "markdown",
   "metadata": {},
   "source": [
    "# Homework 07"
   ]
  },
  {
   "cell_type": "markdown",
   "metadata": {},
   "source": [
    "### Preparation...\n",
    "\n",
    "Run this code from the lecture to be ready for the exercises below!"
   ]
  },
  {
   "cell_type": "code",
   "execution_count": 1,
   "metadata": {},
   "outputs": [],
   "source": [
    "import glob\n",
    "import os.path\n",
    "\n",
    "import numpy as np\n",
    "import pandas as pd\n",
    "import matplotlib.pyplot as plt\n",
    "\n",
    "\n",
    "from sklearn import datasets, linear_model, ensemble, neural_network\n",
    "from sklearn.metrics import mean_squared_error, r2_score\n",
    "from sklearn.model_selection import train_test_split\n",
    "\n",
    "from pathlib import Path"
   ]
  },
  {
   "cell_type": "code",
   "execution_count": 2,
   "metadata": {},
   "outputs": [],
   "source": [
    "CONFIG_FILE = '../entsoe-data.config'\n",
    "\n",
    "if not os.path.exists(CONFIG_FILE):\n",
    "    download_dir = input('Path to ENTSO-E data folder: ')\n",
    "    if not os.path.isdir(download_dir):\n",
    "        raise RuntimeError(f'Invalid download_dir, please run cell again: {download_dir}')\n",
    "    with open(CONFIG_FILE, 'w') as f:\n",
    "        f.write(download_dir)\n",
    "else:\n",
    "    with open(CONFIG_FILE) as f:\n",
    "        download_dir = f.read()\n",
    "        \n",
    "# Clear the output after this cell if you want to aovid having your path in the notebook (or execute it twice)!"
   ]
  },
  {
   "cell_type": "code",
   "execution_count": 3,
   "metadata": {},
   "outputs": [
    {
     "name": "stdout",
     "output_type": "stream",
     "text": [
      "Concatenating 68 csv files...\n",
      "Loading done.\n"
     ]
    }
   ],
   "source": [
    "def read_single_csv_entso_e(file):\n",
    "    return pd.read_csv(file, sep='\\t', encoding='utf-16', parse_dates=[\"DateTime\"])\n",
    "\n",
    "\n",
    "def load_complete_entso_e_data(directory):\n",
    "    pattern = Path(directory) / '*.csv'\n",
    "    files = glob.glob(str(pattern))\n",
    "\n",
    "    if not files:\n",
    "        raise ValueError(f\"No files found when searching in {pattern}, wrong directory?\")\n",
    "    \n",
    "    print(f'Concatenating {len(files)} csv files...')\n",
    "\n",
    "    each_csv_file = [read_single_csv_entso_e(file) for file in files]\n",
    "    data = pd.concat(each_csv_file, ignore_index=True)\n",
    "\n",
    "    data = data.sort_values(by=[\"AreaName\", \"DateTime\"])\n",
    "    data = data.set_index(\"DateTime\")\n",
    "\n",
    "    print(\"Loading done.\")\n",
    "\n",
    "    return data\n",
    "\n",
    "\n",
    "power_demand = load_complete_entso_e_data(download_dir)"
   ]
  },
  {
   "cell_type": "code",
   "execution_count": 4,
   "metadata": {},
   "outputs": [],
   "source": [
    "def get_hourly_country_data(data, country):\n",
    "    ret_data = data[data[\"AreaName\"] == country].interpolate()\n",
    "    #ret_data = ret_data.set_index(\"DateTime\")\n",
    "    ret_data = ret_data.resample(\"1h\").mean().interpolate()\n",
    "    return ret_data\n",
    "\n",
    "power_demand_at_hourly = get_hourly_country_data(power_demand, \"Austria\")[\"2015-01-01\":\"2019-12-31\"]"
   ]
  },
  {
   "cell_type": "markdown",
   "metadata": {},
   "source": [
    "## Exercise 1\n",
    "\n",
    "Explain the following terms:\n",
    "\n",
    "**Input feature:** < your explanation goes here >\n",
    "\n",
    "**Output feature:** < your explanation goes here >\n",
    "\n",
    "**Fit a function to data:** < your explanation goes here >\n",
    "\n",
    "**Training data:** < your explanation goes here >\n",
    "\n",
    "**Test data:** < your explanation goes here >\n",
    "\n",
    "\n",
    "    "
   ]
  },
  {
   "cell_type": "markdown",
   "metadata": {},
   "source": [
    "## Exercise 2\n",
    "\n",
    "In lecture07 we created a plot of the ratio of actual load and predicted load for Austria step by step (Exercise 04). Now put all of this together in one function which takes one parameter `country` as input and calculates and plots the figure of Exercise 04 for this country! The model should be trained on 2015-2019 data and then you should predict for 2020 and compare it to observations. Also do a training/test split and print the R2 for both datasets.\n",
    "\n",
    "Apply the function to the following countries and show the results in one plot: Austria, Germany, Switzerland, Italy, Spain, Sweden, United Kingdom.\n",
    "\n",
    "(1) Print the country name. Get the data for the specific country using ```get_hourly_country_data``` from the lecture and extract two periods, i.e 2015-2019 and 2020 in two separate dataframes.\n",
    "\n",
    "(2) Define X (the input features, i.e. the indicators for time) and Y (i.e. the output feature, the electricity load). Observe that for training, we use the period 2015-2019.\n",
    "\n",
    "(3) Do a train/test split\n",
    "\n",
    "(4) Fit the input features to the output feature using a ```RandomForestRegressor```\n",
    "\n",
    "(5) Predict the output with the training data and the test data and compute the R^2 for both!\n",
    "\n",
    "(6) Print the R^2.\n",
    "\n",
    "(7) Create a new variable ```X_2020``` which contains the input features for the year 2020.\n",
    "\n",
    "(8) Predict with your model the load for 2020.\n",
    "\n",
    "(9) Assign your prediction back to the dataframe in a new column and calculate the monthly mean for prediction and for observed load. You might need to copy the dataframe first by doing something like `power_demand_hourly = power_demand_hourly.copy()` (otherwise it might be just a slice of the complete time range and then you can't add a column for some rows only).\n",
    "\n",
    "(10) Plot the ratio of load and prediction. With ```label=country```, you can add a label to your plot for making a legend.\n",
    "\n",
    "(11) Execute the function for the following countries: Austria, Germany, Switzerland, Italy, Spain, Sweden, United Kingdom.\n",
    "\n",
    "(12) After calling the functions, use ```plt.legend()``` to show a legend."
   ]
  },
  {
   "cell_type": "code",
   "execution_count": 11,
   "metadata": {},
   "outputs": [],
   "source": [
    "def power_demand_ration(country):\n",
    "    print(country)\n",
    "    print(\"Estimating load\")\n",
    "    \n",
    "    power_demand_hrl_2019 = get_hourly_country_data(power_demand, country)[\"2015-01-01\":\"2019-12-31\"]\n",
    "    power_demand_hrl_2020 = get_hourly_country_data(power_demand, country)[\"2020-01-01\":]\n",
    "    \n",
    "    X_2019 = np.array([power_demand_hrl_2019.index.dayofyear.values,\n",
    "     power_demand_hrl_2019.index.weekday.values,\n",
    "     power_demand_hrl_2019.index.hour.values]).T\n",
    "    \n",
    "    Y_2019 = power_demand_hrl_2019[\"TotalLoadValue\"].values\n",
    "    \n",
    "    X_training, X_test, Y_training, Y_test = train_test_split(X_2019, Y_2019, test_size=0.2)\n",
    "    \n",
    "    forest_model = ensemble.RandomForestRegressor()\n",
    "\n",
    "    # Train the model using the training sets\n",
    "    forest_model.fit(X_training, Y_training)\n",
    "\n",
    "    prediction_training = forest_model.predict(X_training)\n",
    "    prediction_test = forest_model.predict(X_test)\n",
    "    \n",
    "    print(\"R² score for training data:\",r2_score(Y_training,prediction_training))\n",
    "    print(\"R² score for test data:\",r2_score(Y_test,prediction_test))\n",
    "    \n",
    "    X_2020 = np.array([power_demand_hrl_2020.index.dayofyear.values,\n",
    "     power_demand_hrl_2020.index.weekday.values,\n",
    "     power_demand_hrl_2020.index.hour.values]).T\n",
    "    \n",
    "    prediction_2020 = forest_model.predict(X_2020)\n",
    "    \n",
    "    power_demand_hrl_2020 = power_demand_hrl_2020.copy()\n",
    "    power_demand_hrl_2020[\"Predicted_values\"] = prediction_2020\n",
    "    \n",
    "    power_demand_monthly_2020 = power_demand_hrl_2020.resample('1m').mean()\n",
    "\n",
    "    proportion = power_demand_monthly_2020[\"Predicted_values\"] / power_demand_monthly_2020[\"TotalLoadValue\"]\n",
    "\n",
    "    x = [\"Jan\",\"Feb\",\"March\",\"April\",\"May\"]\n",
    "    plt.plot(x,proportion,'o',label=country)\n",
    "    plt.xlabel(\"Month\")\n",
    "    plt.ylabel(\"Ratio Predicted / Actual Load 2020\")"
   ]
  },
  {
   "cell_type": "code",
   "execution_count": 15,
   "metadata": {},
   "outputs": [
    {
     "name": "stdout",
     "output_type": "stream",
     "text": [
      "Austria\n",
      "Estimating load\n",
      "R² score for training data: 0.9917670177186707\n",
      "R² score for test data: 0.9429233115013073\n",
      "Germany\n",
      "Estimating load\n",
      "R² score for training data: 0.9938902593671314\n",
      "R² score for test data: 0.9544874379478638\n",
      "Switzerland\n",
      "Estimating load\n",
      "R² score for training data: 0.9824439583701539\n",
      "R² score for test data: 0.8817617272454447\n",
      "Italy\n",
      "Estimating load\n",
      "R² score for training data: 0.9959636902048725\n",
      "R² score for test data: 0.9728683884721274\n",
      "Spain\n",
      "Estimating load\n",
      "R² score for training data: 0.9925235434709694\n",
      "R² score for test data: 0.9465070411622338\n",
      "Sweden\n",
      "Estimating load\n",
      "R² score for training data: 0.992371339061619\n",
      "R² score for test data: 0.9445419822319977\n",
      "United Kingdom\n",
      "Estimating load\n",
      "R² score for training data: 0.9776867502394195\n",
      "R² score for test data: 0.8372306988814889\n"
     ]
    },
    {
     "data": {
      "text/plain": [
       "<matplotlib.legend.Legend at 0x22a89bfd708>"
      ]
     },
     "execution_count": 15,
     "metadata": {},
     "output_type": "execute_result"
    },
    {
     "data": {
      "image/png": "[encoded data removed]",
      "text/plain": [
       "<Figure size 432x288 with 1 Axes>"
      ]
     },
     "metadata": {
      "needs_background": "light"
     },
     "output_type": "display_data"
    }
   ],
   "source": [
    "power_demand_ration(\"Austria\")\n",
    "power_demand_ration(\"Germany\")\n",
    "power_demand_ration(\"Switzerland\")\n",
    "power_demand_ration(\"Italy\")\n",
    "power_demand_ration(\"Spain\")\n",
    "power_demand_ration(\"Sweden\")\n",
    "power_demand_ration(\"United Kingdom\")\n",
    "plt.legend(\n",
    "    frameon=False,\n",
    "    loc='center left',\n",
    "    bbox_to_anchor=(1.0,0.5),\n",
    "    ncol=1,\n",
    "    fontsize=8\n",
    "    )"
   ]
  },
  {
   "cell_type": "markdown",
   "metadata": {},
   "source": [
    "## Exercise 3\n",
    "Answer the following questions:"
   ]
  },
  {
   "cell_type": "markdown",
   "metadata": {},
   "source": [
    "(1) Which country had the strongest decline in electricity consumption?"
   ]
  },
  {
   "cell_type": "markdown",
   "metadata": {},
   "source": [
    "Italy"
   ]
  },
  {
   "cell_type": "markdown",
   "metadata": {},
   "source": [
    "(2) For which country does the fit work best?"
   ]
  },
  {
   "cell_type": "markdown",
   "metadata": {},
   "source": [
    "highest R² for test data: Italy"
   ]
  },
  {
   "cell_type": "markdown",
   "metadata": {},
   "source": [
    "(3) Where is the difference of R2 between training data and test data the largest? What does that mean?"
   ]
  },
  {
   "cell_type": "markdown",
   "metadata": {},
   "source": [
    "largest difference: UK\n",
    "This means that the developed model does work least well in the UK compared to other countries, both in terms of absolute R² (lowest for test data) and in terms of the difference between training and test data."
   ]
  },
  {
   "cell_type": "markdown",
   "metadata": {},
   "source": [
    "(4) Look into the data of the country with the largest difference in the R2 of the training and the test data. Can you explain what is happening there? Might this effect our model?"
   ]
  },
  {
   "cell_type": "markdown",
   "metadata": {},
   "source": [
    "This difference might be due to missing data or a coarser resolution from 2017-2018 for which was interpolated when calling the function get_hourly_country_data()"
   ]
  },
  {
   "cell_type": "code",
   "execution_count": 51,
   "metadata": {},
   "outputs": [
    {
     "data": {
      "image/png": "[encoded data removed]",
      "text/plain": [
       "<Figure size 432x288 with 1 Axes>"
      ]
     },
     "metadata": {
      "needs_background": "light"
     },
     "output_type": "display_data"
    }
   ],
   "source": [
    "power_demand_hrl_UK = get_hourly_country_data(power_demand, \"United Kingdom\")\n",
    "UK_month_mean = power_demand_hrl_UK.resample('1m').mean()\n",
    "\n",
    "plt.plot(UK_month_mean[\"TotalLoadValue\"])\n",
    "\n",
    "UK_day_mean = power_demand_hrl_UK.resample('1d').mean()"
   ]
  },
  {
   "cell_type": "code",
   "execution_count": 52,
   "metadata": {},
   "outputs": [
    {
     "data": {
      "text/plain": [
       "[<matplotlib.lines.Line2D at 0x22a8fb5f708>]"
      ]
     },
     "execution_count": 52,
     "metadata": {},
     "output_type": "execute_result"
    },
    {
     "data": {
      "image/png": "[encoded data removed]",
      "text/plain": [
       "<Figure size 432x288 with 1 Axes>"
      ]
     },
     "metadata": {
      "needs_background": "light"
     },
     "output_type": "display_data"
    }
   ],
   "source": [
    "plt.plot(UK_day_mean[\"TotalLoadValue\"])"
   ]
  },
  {
   "cell_type": "code",
   "execution_count": 58,
   "metadata": {},
   "outputs": [
    {
     "data": {
      "text/plain": [
       "[<matplotlib.lines.Line2D at 0x22a8faa17c8>]"
      ]
     },
     "execution_count": 58,
     "metadata": {},
     "output_type": "execute_result"
    },
    {
     "data": {
      "image/png": "[encoded data removed]",
      "text/plain": [
       "<Figure size 432x288 with 1 Axes>"
      ]
     },
     "metadata": {
      "needs_background": "light"
     },
     "output_type": "display_data"
    }
   ],
   "source": [
    "plt.plot(power_demand_hrl_UK[\"TotalLoadValue\"])"
   ]
  },
  {
   "cell_type": "code",
   "execution_count": 67,
   "metadata": {},
   "outputs": [],
   "source": [
    "def get_country_data(data, country):\n",
    "    ret_data = data[data[\"AreaName\"] == country]\n",
    "    #ret_data = ret_data.set_index(\"DateTime\") #index = unique identifier of row\n",
    "    return ret_data\n",
    "\n",
    "\n",
    "power_demand_uk = get_country_data(power_demand, \"United Kingdom\")"
   ]
  },
  {
   "cell_type": "code",
   "execution_count": 75,
   "metadata": {},
   "outputs": [
    {
     "data": {
      "text/html": [
       "<div>\n",
       "<style scoped>\n",
       "    .dataframe tbody tr th:only-of-type {\n",
       "        vertical-align: middle;\n",
       "    }\n",
       "\n",
       "    .dataframe tbody tr th {\n",
       "        vertical-align: top;\n",
       "    }\n",
       "\n",
       "    .dataframe thead th {\n",
       "        text-align: right;\n",
       "    }\n",
       "</style>\n",
       "<table border=\"1\" class=\"dataframe\">\n",
       "  <thead>\n",
       "    <tr style=\"text-align: right;\">\n",
       "      <th></th>\n",
       "      <th>Year</th>\n",
       "      <th>Month</th>\n",
       "      <th>Day</th>\n",
       "      <th>ResolutionCode</th>\n",
       "      <th>areacode</th>\n",
       "      <th>AreaTypeCode</th>\n",
       "      <th>AreaName</th>\n",
       "      <th>MapCode</th>\n",
       "      <th>TotalLoadValue</th>\n",
       "      <th>UpdateTime</th>\n",
       "    </tr>\n",
       "    <tr>\n",
       "      <th>DateTime</th>\n",
       "      <th></th>\n",
       "      <th></th>\n",
       "      <th></th>\n",
       "      <th></th>\n",
       "      <th></th>\n",
       "      <th></th>\n",
       "      <th></th>\n",
       "      <th></th>\n",
       "      <th></th>\n",
       "      <th></th>\n",
       "    </tr>\n",
       "  </thead>\n",
       "  <tbody>\n",
       "    <tr>\n",
       "      <th>2017-08-01 01:00:00</th>\n",
       "      <td>2017</td>\n",
       "      <td>8</td>\n",
       "      <td>1</td>\n",
       "      <td>PT30M</td>\n",
       "      <td>GB</td>\n",
       "      <td>CTY</td>\n",
       "      <td>United Kingdom</td>\n",
       "      <td>GB</td>\n",
       "      <td>23400.0</td>\n",
       "      <td>2018-05-22 20:31:16</td>\n",
       "    </tr>\n",
       "    <tr>\n",
       "      <th>2017-08-01 01:30:00</th>\n",
       "      <td>2017</td>\n",
       "      <td>8</td>\n",
       "      <td>1</td>\n",
       "      <td>PT30M</td>\n",
       "      <td>GB</td>\n",
       "      <td>CTY</td>\n",
       "      <td>United Kingdom</td>\n",
       "      <td>GB</td>\n",
       "      <td>22944.0</td>\n",
       "      <td>2018-05-22 20:31:16</td>\n",
       "    </tr>\n",
       "    <tr>\n",
       "      <th>2017-08-05 01:00:00</th>\n",
       "      <td>2017</td>\n",
       "      <td>8</td>\n",
       "      <td>5</td>\n",
       "      <td>PT30M</td>\n",
       "      <td>GB</td>\n",
       "      <td>CTY</td>\n",
       "      <td>United Kingdom</td>\n",
       "      <td>GB</td>\n",
       "      <td>22629.0</td>\n",
       "      <td>2018-05-22 21:31:13</td>\n",
       "    </tr>\n",
       "    <tr>\n",
       "      <th>2017-08-05 01:30:00</th>\n",
       "      <td>2017</td>\n",
       "      <td>8</td>\n",
       "      <td>5</td>\n",
       "      <td>PT30M</td>\n",
       "      <td>GB</td>\n",
       "      <td>CTY</td>\n",
       "      <td>United Kingdom</td>\n",
       "      <td>GB</td>\n",
       "      <td>22143.0</td>\n",
       "      <td>2018-05-22 21:31:13</td>\n",
       "    </tr>\n",
       "    <tr>\n",
       "      <th>2017-08-08 02:00:00</th>\n",
       "      <td>2017</td>\n",
       "      <td>8</td>\n",
       "      <td>8</td>\n",
       "      <td>PT30M</td>\n",
       "      <td>GB</td>\n",
       "      <td>CTY</td>\n",
       "      <td>United Kingdom</td>\n",
       "      <td>GB</td>\n",
       "      <td>22998.0</td>\n",
       "      <td>2018-05-22 22:01:26</td>\n",
       "    </tr>\n",
       "    <tr>\n",
       "      <th>2017-08-08 02:30:00</th>\n",
       "      <td>2017</td>\n",
       "      <td>8</td>\n",
       "      <td>8</td>\n",
       "      <td>PT30M</td>\n",
       "      <td>GB</td>\n",
       "      <td>CTY</td>\n",
       "      <td>United Kingdom</td>\n",
       "      <td>GB</td>\n",
       "      <td>23000.0</td>\n",
       "      <td>2018-05-22 22:01:26</td>\n",
       "    </tr>\n",
       "    <tr>\n",
       "      <th>2017-08-08 16:00:00</th>\n",
       "      <td>2017</td>\n",
       "      <td>8</td>\n",
       "      <td>8</td>\n",
       "      <td>PT30M</td>\n",
       "      <td>GB</td>\n",
       "      <td>CTY</td>\n",
       "      <td>United Kingdom</td>\n",
       "      <td>GB</td>\n",
       "      <td>39764.0</td>\n",
       "      <td>2018-05-22 22:16:06</td>\n",
       "    </tr>\n",
       "    <tr>\n",
       "      <th>2017-08-08 16:30:00</th>\n",
       "      <td>2017</td>\n",
       "      <td>8</td>\n",
       "      <td>8</td>\n",
       "      <td>PT30M</td>\n",
       "      <td>GB</td>\n",
       "      <td>CTY</td>\n",
       "      <td>United Kingdom</td>\n",
       "      <td>GB</td>\n",
       "      <td>39595.0</td>\n",
       "      <td>2018-05-22 22:16:06</td>\n",
       "    </tr>\n",
       "    <tr>\n",
       "      <th>2017-08-12 04:00:00</th>\n",
       "      <td>2017</td>\n",
       "      <td>8</td>\n",
       "      <td>12</td>\n",
       "      <td>PT30M</td>\n",
       "      <td>GB</td>\n",
       "      <td>CTY</td>\n",
       "      <td>United Kingdom</td>\n",
       "      <td>GB</td>\n",
       "      <td>22090.0</td>\n",
       "      <td>2018-05-22 23:01:15</td>\n",
       "    </tr>\n",
       "    <tr>\n",
       "      <th>2017-08-12 04:30:00</th>\n",
       "      <td>2017</td>\n",
       "      <td>8</td>\n",
       "      <td>12</td>\n",
       "      <td>PT30M</td>\n",
       "      <td>GB</td>\n",
       "      <td>CTY</td>\n",
       "      <td>United Kingdom</td>\n",
       "      <td>GB</td>\n",
       "      <td>22252.0</td>\n",
       "      <td>2018-05-22 23:01:15</td>\n",
       "    </tr>\n",
       "  </tbody>\n",
       "</table>\n",
       "</div>"
      ],
      "text/plain": [
       "                     Year  Month  Day ResolutionCode areacode AreaTypeCode  \\\n",
       "DateTime                                                                     \n",
       "2017-08-01 01:00:00  2017      8    1          PT30M       GB          CTY   \n",
       "2017-08-01 01:30:00  2017      8    1          PT30M       GB          CTY   \n",
       "2017-08-05 01:00:00  2017      8    5          PT30M       GB          CTY   \n",
       "2017-08-05 01:30:00  2017      8    5          PT30M       GB          CTY   \n",
       "2017-08-08 02:00:00  2017      8    8          PT30M       GB          CTY   \n",
       "2017-08-08 02:30:00  2017      8    8          PT30M       GB          CTY   \n",
       "2017-08-08 16:00:00  2017      8    8          PT30M       GB          CTY   \n",
       "2017-08-08 16:30:00  2017      8    8          PT30M       GB          CTY   \n",
       "2017-08-12 04:00:00  2017      8   12          PT30M       GB          CTY   \n",
       "2017-08-12 04:30:00  2017      8   12          PT30M       GB          CTY   \n",
       "\n",
       "                           AreaName MapCode  TotalLoadValue  \\\n",
       "DateTime                                                      \n",
       "2017-08-01 01:00:00  United Kingdom      GB         23400.0   \n",
       "2017-08-01 01:30:00  United Kingdom      GB         22944.0   \n",
       "2017-08-05 01:00:00  United Kingdom      GB         22629.0   \n",
       "2017-08-05 01:30:00  United Kingdom      GB         22143.0   \n",
       "2017-08-08 02:00:00  United Kingdom      GB         22998.0   \n",
       "2017-08-08 02:30:00  United Kingdom      GB         23000.0   \n",
       "2017-08-08 16:00:00  United Kingdom      GB         39764.0   \n",
       "2017-08-08 16:30:00  United Kingdom      GB         39595.0   \n",
       "2017-08-12 04:00:00  United Kingdom      GB         22090.0   \n",
       "2017-08-12 04:30:00  United Kingdom      GB         22252.0   \n",
       "\n",
       "                              UpdateTime  \n",
       "DateTime                                  \n",
       "2017-08-01 01:00:00  2018-05-22 20:31:16  \n",
       "2017-08-01 01:30:00  2018-05-22 20:31:16  \n",
       "2017-08-05 01:00:00  2018-05-22 21:31:13  \n",
       "2017-08-05 01:30:00  2018-05-22 21:31:13  \n",
       "2017-08-08 02:00:00  2018-05-22 22:01:26  \n",
       "2017-08-08 02:30:00  2018-05-22 22:01:26  \n",
       "2017-08-08 16:00:00  2018-05-22 22:16:06  \n",
       "2017-08-08 16:30:00  2018-05-22 22:16:06  \n",
       "2017-08-12 04:00:00  2018-05-22 23:01:15  \n",
       "2017-08-12 04:30:00  2018-05-22 23:01:15  "
      ]
     },
     "execution_count": 75,
     "metadata": {},
     "output_type": "execute_result"
    }
   ],
   "source": [
    "power_d_uk_1718 = power_demand_uk[\"2017-08-01\":\"2018-03-01\"]\n",
    "power_d_uk_1718.head(n=10)"
   ]
  },
  {
   "cell_type": "markdown",
   "metadata": {},
   "source": [
    "## Exercise 4"
   ]
  },
  {
   "cell_type": "markdown",
   "metadata": {},
   "source": [
    "The difference between model prediction and actual observation may help understanding how people behaved during the lockdown. In this exercise, you should come up with your own hypothesis of how people behaved and how this affected power consumption. You may, e.g., look into demand on different weekdays or in different hours. Once you have a hypothesis and a theory, why this hypothesis may be valid, test it with the model: is your hypothesis covered by what you observe in the load data?"
   ]
  },
  {
   "cell_type": "markdown",
   "metadata": {},
   "source": [
    "### My hypothesis: \n",
    "less power demand on weekdays (i.e. Monday-Friday) because of less work, i.e. more unemployed or \"Kurzarbeit\", more home office, less public transport,fewer open shops etc."
   ]
  },
  {
   "cell_type": "code",
   "execution_count": 89,
   "metadata": {},
   "outputs": [
    {
     "data": {
      "text/html": [
       "<div>\n",
       "<style scoped>\n",
       "    .dataframe tbody tr th:only-of-type {\n",
       "        vertical-align: middle;\n",
       "    }\n",
       "\n",
       "    .dataframe tbody tr th {\n",
       "        vertical-align: top;\n",
       "    }\n",
       "\n",
       "    .dataframe thead th {\n",
       "        text-align: right;\n",
       "    }\n",
       "</style>\n",
       "<table border=\"1\" class=\"dataframe\">\n",
       "  <thead>\n",
       "    <tr style=\"text-align: right;\">\n",
       "      <th></th>\n",
       "      <th>Year</th>\n",
       "      <th>Month</th>\n",
       "      <th>Day</th>\n",
       "      <th>TotalLoadValue</th>\n",
       "    </tr>\n",
       "    <tr>\n",
       "      <th>DateTime</th>\n",
       "      <th></th>\n",
       "      <th></th>\n",
       "      <th></th>\n",
       "      <th></th>\n",
       "    </tr>\n",
       "  </thead>\n",
       "  <tbody>\n",
       "    <tr>\n",
       "      <th>2014-12-01</th>\n",
       "      <td>2014</td>\n",
       "      <td>12</td>\n",
       "      <td>1</td>\n",
       "      <td>6450.300000</td>\n",
       "    </tr>\n",
       "    <tr>\n",
       "      <th>2014-12-02</th>\n",
       "      <td>2014</td>\n",
       "      <td>12</td>\n",
       "      <td>2</td>\n",
       "      <td>7584.245833</td>\n",
       "    </tr>\n",
       "    <tr>\n",
       "      <th>2014-12-03</th>\n",
       "      <td>2014</td>\n",
       "      <td>12</td>\n",
       "      <td>3</td>\n",
       "      <td>7610.300000</td>\n",
       "    </tr>\n",
       "    <tr>\n",
       "      <th>2014-12-04</th>\n",
       "      <td>2014</td>\n",
       "      <td>12</td>\n",
       "      <td>4</td>\n",
       "      <td>7832.933333</td>\n",
       "    </tr>\n",
       "    <tr>\n",
       "      <th>2014-12-05</th>\n",
       "      <td>2014</td>\n",
       "      <td>12</td>\n",
       "      <td>5</td>\n",
       "      <td>7512.570833</td>\n",
       "    </tr>\n",
       "    <tr>\n",
       "      <th>2014-12-06</th>\n",
       "      <td>2014</td>\n",
       "      <td>12</td>\n",
       "      <td>6</td>\n",
       "      <td>6751.533333</td>\n",
       "    </tr>\n",
       "    <tr>\n",
       "      <th>2014-12-07</th>\n",
       "      <td>2014</td>\n",
       "      <td>12</td>\n",
       "      <td>7</td>\n",
       "      <td>6911.800000</td>\n",
       "    </tr>\n",
       "    <tr>\n",
       "      <th>2014-12-08</th>\n",
       "      <td>2014</td>\n",
       "      <td>12</td>\n",
       "      <td>8</td>\n",
       "      <td>6846.691667</td>\n",
       "    </tr>\n",
       "    <tr>\n",
       "      <th>2014-12-09</th>\n",
       "      <td>2014</td>\n",
       "      <td>12</td>\n",
       "      <td>9</td>\n",
       "      <td>7470.820833</td>\n",
       "    </tr>\n",
       "    <tr>\n",
       "      <th>2014-12-10</th>\n",
       "      <td>2014</td>\n",
       "      <td>12</td>\n",
       "      <td>10</td>\n",
       "      <td>8044.879167</td>\n",
       "    </tr>\n",
       "    <tr>\n",
       "      <th>2014-12-11</th>\n",
       "      <td>2014</td>\n",
       "      <td>12</td>\n",
       "      <td>11</td>\n",
       "      <td>8138.600000</td>\n",
       "    </tr>\n",
       "    <tr>\n",
       "      <th>2014-12-12</th>\n",
       "      <td>2014</td>\n",
       "      <td>12</td>\n",
       "      <td>12</td>\n",
       "      <td>7830.170833</td>\n",
       "    </tr>\n",
       "    <tr>\n",
       "      <th>2014-12-13</th>\n",
       "      <td>2014</td>\n",
       "      <td>12</td>\n",
       "      <td>13</td>\n",
       "      <td>6070.445833</td>\n",
       "    </tr>\n",
       "    <tr>\n",
       "      <th>2014-12-14</th>\n",
       "      <td>2014</td>\n",
       "      <td>12</td>\n",
       "      <td>14</td>\n",
       "      <td>7063.375000</td>\n",
       "    </tr>\n",
       "    <tr>\n",
       "      <th>2014-12-15</th>\n",
       "      <td>2014</td>\n",
       "      <td>12</td>\n",
       "      <td>15</td>\n",
       "      <td>7780.841667</td>\n",
       "    </tr>\n",
       "    <tr>\n",
       "      <th>2014-12-16</th>\n",
       "      <td>2014</td>\n",
       "      <td>12</td>\n",
       "      <td>16</td>\n",
       "      <td>7307.587500</td>\n",
       "    </tr>\n",
       "    <tr>\n",
       "      <th>2014-12-17</th>\n",
       "      <td>2014</td>\n",
       "      <td>12</td>\n",
       "      <td>17</td>\n",
       "      <td>6976.050000</td>\n",
       "    </tr>\n",
       "    <tr>\n",
       "      <th>2014-12-18</th>\n",
       "      <td>2014</td>\n",
       "      <td>12</td>\n",
       "      <td>18</td>\n",
       "      <td>5546.245833</td>\n",
       "    </tr>\n",
       "    <tr>\n",
       "      <th>2014-12-19</th>\n",
       "      <td>2014</td>\n",
       "      <td>12</td>\n",
       "      <td>19</td>\n",
       "      <td>6244.625000</td>\n",
       "    </tr>\n",
       "    <tr>\n",
       "      <th>2014-12-20</th>\n",
       "      <td>2014</td>\n",
       "      <td>12</td>\n",
       "      <td>20</td>\n",
       "      <td>6175.620833</td>\n",
       "    </tr>\n",
       "  </tbody>\n",
       "</table>\n",
       "</div>"
      ],
      "text/plain": [
       "            Year  Month  Day  TotalLoadValue\n",
       "DateTime                                    \n",
       "2014-12-01  2014     12    1     6450.300000\n",
       "2014-12-02  2014     12    2     7584.245833\n",
       "2014-12-03  2014     12    3     7610.300000\n",
       "2014-12-04  2014     12    4     7832.933333\n",
       "2014-12-05  2014     12    5     7512.570833\n",
       "2014-12-06  2014     12    6     6751.533333\n",
       "2014-12-07  2014     12    7     6911.800000\n",
       "2014-12-08  2014     12    8     6846.691667\n",
       "2014-12-09  2014     12    9     7470.820833\n",
       "2014-12-10  2014     12   10     8044.879167\n",
       "2014-12-11  2014     12   11     8138.600000\n",
       "2014-12-12  2014     12   12     7830.170833\n",
       "2014-12-13  2014     12   13     6070.445833\n",
       "2014-12-14  2014     12   14     7063.375000\n",
       "2014-12-15  2014     12   15     7780.841667\n",
       "2014-12-16  2014     12   16     7307.587500\n",
       "2014-12-17  2014     12   17     6976.050000\n",
       "2014-12-18  2014     12   18     5546.245833\n",
       "2014-12-19  2014     12   19     6244.625000\n",
       "2014-12-20  2014     12   20     6175.620833"
      ]
     },
     "execution_count": 89,
     "metadata": {},
     "output_type": "execute_result"
    }
   ],
   "source": [
    "#Hypothesis: power demand on weekdays after lookdown is smaller compared to before\n",
    "#I use a simple t-test with average power demand per weekday; with a monthly dummy \n",
    "\n",
    "power_demand_hrl_AT = get_hourly_country_data(power_demand, \"Austria\")\n",
    "AT_day_mean =  power_demand_hrl_AT.resample('1d').mean()\n",
    "\n",
    "AT_day_mean.head(n=20)\n",
    "#plt.plot(AT_day_mean[\"TotalLoadValue\"])"
   ]
  },
  {
   "cell_type": "code",
   "execution_count": 199,
   "metadata": {},
   "outputs": [
    {
     "name": "stdout",
     "output_type": "stream",
     "text": [
      "            Year  Month  Day  TotalLoadValue\n",
      "DateTime                                    \n",
      "2014-12-01  2014     12    1     6450.300000\n",
      "2014-12-02  2014     12    2     7584.245833\n",
      "2014-12-03  2014     12    3     7610.300000\n",
      "2014-12-04  2014     12    4     7832.933333\n",
      "2014-12-05  2014     12    5     7512.570833\n",
      "2014-12-08  2014     12    8     6846.691667\n",
      "2014-12-09  2014     12    9     7470.820833\n",
      "2014-12-10  2014     12   10     8044.879167\n",
      "2014-12-11  2014     12   11     8138.600000\n",
      "2014-12-12  2014     12   12     7830.170833\n",
      "            Year  Month  Day  TotalLoadValue\n",
      "DateTime                                    \n",
      "2015-03-02  2015      3    2     7720.562500\n",
      "2015-03-03  2015      3    3     7734.604167\n",
      "2015-03-04  2015      3    4     8289.866667\n",
      "2015-03-05  2015      3    5     8432.641667\n",
      "2015-03-06  2015      3    6     8134.754167\n",
      "2015-03-09  2015      3    9     7976.737500\n",
      "2015-03-10  2015      3   10     7930.012500\n",
      "2015-03-11  2015      3   11     8015.079167\n",
      "2015-03-12  2015      3   12     7905.904167\n",
      "2015-03-13  2015      3   13     7933.158333\n"
     ]
    },
    {
     "data": {
      "text/plain": [
       "Ttest_indResult(statistic=4.891625780421248, pvalue=7.1478753263776304e-06)"
      ]
     },
     "execution_count": 199,
     "metadata": {},
     "output_type": "execute_result"
    }
   ],
   "source": [
    "\n",
    "\n",
    "##now only select weekdays and compare March-May of previous years with March-May 2020\n",
    "power_demand_weekday_AT = AT_day_mean.loc[AT_day_mean.index.weekday < 5,]\n",
    "print(power_demand_weekday_AT.head(n=10))\n",
    "\n",
    "#selecting lockdown months in years 2015-2019\n",
    "l = [3,4,5]\n",
    "#power_demand_weekday_AT_preLockdown = power_demand_weekday_AT.loc[power_demand_weekday_AT.index.month == any(l),]\n",
    "power_demand_weekday_AT_preLockdown = power_demand_weekday_AT[power_demand_weekday_AT.index.month.isin(l)][\"2014-12-01\":\"2019-12-31\"]\n",
    "print(power_demand_weekday_AT_preLockdown.head(n=10))\n",
    "\n",
    "power_demand_weekday_AT_postLockdown = power_demand_weekday_AT[power_demand_weekday_AT.index.month.isin(l)][\"2020-01-01\":\"2020-12-31\"]\n",
    "power_demand_weekday_AT_postLockdown.head(n=10)\n",
    "\n",
    "#t-test:\n",
    "from scipy import stats\n",
    "stats.ttest_ind(power_demand_weekday_AT_preLockdown[\"TotalLoadValue\"],power_demand_weekday_AT_postLockdown[\"TotalLoadValue\"], equal_var = False)"
   ]
  },
  {
   "cell_type": "code",
   "execution_count": 198,
   "metadata": {},
   "outputs": [
    {
     "name": "stdout",
     "output_type": "stream",
     "text": [
      "                 Year  Month        Day  TotalLoadValue\n",
      "DateTime                                               \n",
      "3         2016.972973    3.0  16.027027     7954.268206\n",
      "4         2017.000000    4.0  15.424528     7180.816509\n",
      "5         2017.044643    5.0  15.946429     6831.203869\n"
     ]
    },
    {
     "data": {
      "text/plain": [
       "<matplotlib.legend.Legend at 0x22a8fca0f88>"
      ]
     },
     "execution_count": 198,
     "metadata": {},
     "output_type": "execute_result"
    },
    {
     "data": {
      "image/png": "[encoded data removed]",
      "text/plain": [
       "<Figure size 432x288 with 1 Axes>"
      ]
     },
     "metadata": {
      "needs_background": "light"
     },
     "output_type": "display_data"
    }
   ],
   "source": [
    "x = power_demand_weekday_AT_preLockdown.groupby([\n",
    "    power_demand_weekday_AT_preLockdown.index.month]).mean()\n",
    "print(x.head())\n",
    "#x_unstacked = x.unstack()\n",
    "\n",
    "y = power_demand_weekday_AT_postLockdown.groupby([\n",
    "    power_demand_weekday_AT_postLockdown.index.month]).mean()\n",
    "#y_unstacked = y.unstack()\n",
    "\n",
    "plt.plot(x[\"TotalLoadValue\"],\"o\",label=\"Pre Lockdown\")\n",
    "plt.plot(y[\"TotalLoadValue\"],\"x\",color=\"black\", label=\"Post Lockdown\")\n",
    "plt.legend()"
   ]
  },
  {
   "cell_type": "code",
   "execution_count": 240,
   "metadata": {},
   "outputs": [
    {
     "name": "stdout",
     "output_type": "stream",
     "text": [
      "                     Year  Month        Day  TotalLoadValue\n",
      "DateTime DateTime                                          \n",
      "2015     3         2015.0    3.0  15.954545     7690.566856\n",
      "         4         2015.0    4.0  15.681818     7044.813447\n",
      "         5         2015.0    5.0  15.761905     6352.739087\n",
      "2016     3         2016.0    3.0  16.000000     7891.807428\n",
      "         4         2016.0    4.0  15.761905     7270.334722\n"
     ]
    },
    {
     "data": {
      "text/plain": [
       "<matplotlib.legend.Legend at 0x22a9cfc9788>"
      ]
     },
     "execution_count": 240,
     "metadata": {},
     "output_type": "execute_result"
    },
    {
     "data": {
      "image/png": "[encoded data removed]",
      "text/plain": [
       "<Figure size 432x288 with 1 Axes>"
      ]
     },
     "metadata": {
      "needs_background": "light"
     },
     "output_type": "display_data"
    }
   ],
   "source": [
    "x = power_demand_weekday_AT_preLockdown.groupby([\n",
    "    power_demand_weekday_AT_preLockdown.index.year,\n",
    "    power_demand_weekday_AT_preLockdown.index.month]).mean()\n",
    "print(x.head())\n",
    "\n",
    "y = power_demand_weekday_AT_postLockdown.groupby([\n",
    "    power_demand_weekday_AT_postLockdown.index.year,\n",
    "    power_demand_weekday_AT_postLockdown.index.month]).mean()\n",
    "\n",
    "\n",
    "plt.plot(x[\"Month\"],x[\"TotalLoadValue\"],\"o\",label=\"Pre Lockdown\")\n",
    "plt.plot(y[\"Month\"],y[\"TotalLoadValue\"],\"x\",color=\"black\", label=\"Post Lockdown\")\n",
    "plt.legend()"
   ]
  },
  {
   "cell_type": "markdown",
   "metadata": {},
   "source": [
    "#### The t test revealed that the means of the power demand on weekdays in the months of the lockdown have been statistically different during lockdown compared to pre lockdown. The above graph shows that monthly means (only considering the weekdays until Friday) are lower"
   ]
  },
  {
   "cell_type": "markdown",
   "metadata": {},
   "source": [
    "## Exercise 5\n",
    "\n",
    "Download ERA5 temperature data for the next lecture.\n",
    "\n",
    "First install necessary dependencies `xarray` and `cdsapi`:"
   ]
  },
  {
   "cell_type": "code",
   "execution_count": null,
   "metadata": {},
   "outputs": [],
   "source": [
    "import sys\n",
    "!conda install --yes --prefix {sys.prefix} xarray\n",
    "!conda install --yes --prefix {sys.prefix} -c conda-forge cdsapi\n",
    "\n",
    "#conda install --yes xarray\n",
    "#conda install --yes -c conda-forge cdsapi"
   ]
  },
  {
   "cell_type": "code",
   "execution_count": 25,
   "metadata": {},
   "outputs": [
    {
     "name": "stdout",
     "output_type": "stream",
     "text": [
      "\n",
      "Note: you may need to restart the kernel to use updated packages.\n"
     ]
    },
    {
     "name": "stderr",
     "output_type": "stream",
     "text": [
      "Warning: 'conda-forge' already in 'channels' list, moving to the top\n"
     ]
    }
   ],
   "source": [
    "conda config --add channels conda-forge"
   ]
  },
  {
   "cell_type": "code",
   "execution_count": 26,
   "metadata": {},
   "outputs": [
    {
     "name": "stdout",
     "output_type": "stream",
     "text": [
      "Collecting package metadata (current_repodata.json): ...working... done\n",
      "Solving environment: ...working... done\n",
      "\n",
      "# All requested packages already installed.\n",
      "\n"
     ]
    }
   ],
   "source": [
    "import sys\n",
    "!conda install --yes --prefix {sys.prefix} cdsapi"
   ]
  },
  {
   "cell_type": "markdown",
   "metadata": {},
   "source": [
    "The [Copernicus Climate Data Store](https://cds.climate.copernicus.eu/) provides [reanalysis climate data](https://cds.climate.copernicus.eu/cdsapp#!/search?type=dataset&keywords=((%20%22Product%20type:%20Reanalysis%22%20))). We are going to download [ERA5](https://cds.climate.copernicus.eu/cdsapp#!/dataset/reanalysis-era5-land?tab=form) data and use the [temperature 2m above ground values](https://apps.ecmwf.int/codes/grib/param-db?id=167)."
   ]
  },
  {
   "cell_type": "markdown",
   "metadata": {},
   "source": [
    "Register for the CDS API and install the API key by following [this guide](https://cds.climate.copernicus.eu/api-how-to). You don't need to run `pip install cdsapi`, this has been done in the cell above already using conda."
   ]
  },
  {
   "cell_type": "code",
   "execution_count": 28,
   "metadata": {},
   "outputs": [],
   "source": [
    "import cdsapi\n",
    "\n",
    "c = cdsapi.Client()"
   ]
  },
  {
   "cell_type": "code",
   "execution_count": 30,
   "metadata": {},
   "outputs": [],
   "source": [
    "# Add the path to the lecture repository here:\n",
    "PATH_TO_LECTURE_REPO =  '../..'\n",
    "\n",
    "if not os.path.isdir(Path(PATH_TO_LECTURE_REPO) / 'lecture00-introduction'):\n",
    "    raise RuntimeError(f\"Wrong path to lecture repository: PATH_TO_LECTURE_REPO = {PATH_TO_LECTURE_REPO}\")"
   ]
  },
  {
   "cell_type": "markdown",
   "metadata": {},
   "source": [
    "We'll download data from 2015 to 2020 in a bounding box which covers all countries we used so far for our analysis.\n",
    "To make the download a bit faster, we'll use a [0.5° grid](https://confluence.ecmwf.int/display/CKB/ERA5%3A+Web+API+to+CDS+API) instead of the 0.1° grid. This will download approximately 500MB. The download might take a couple of hours, because the data is prepared on their servers before it can be downloaded."
   ]
  },
  {
   "cell_type": "code",
   "execution_count": null,
   "metadata": {},
   "outputs": [],
   "source": [
    "filename = Path(PATH_TO_LECTURE_REPO) / 'data' / 'temperatures_era5.nc'\n",
    "\n",
    "north, west, south, east = 70.,-13.5, 35.5, 24.5\n",
    "\n",
    "c.retrieve(\n",
    "    'reanalysis-era5-land',\n",
    "    {\n",
    "        'format': 'netcdf',\n",
    "        'variable': '2m_temperature',\n",
    "        'area': [\n",
    "            north, west, south, east\n",
    "        ],\n",
    "        'grid': [0.5, 0.5],  # grid in 0.5deg steps in longitude/latitude\n",
    "        'day': [f\"{day:02d}\" for day in range(1, 32)],\n",
    "        'time': [f\"{hour:02d}:00\" for hour in range(24)],\n",
    "        'month': [f\"{month:02d}\" for month in range(1, 13)],\n",
    "        'year': [str(year) for year in range(2015, 2021)],\n",
    "    },\n",
    "    f\"{filename}.part\")\n",
    "\n",
    "# this prevents you from accidentally using broken files:\n",
    "os.rename(f\"{filename}.part\", filename)"
   ]
  },
  {
   "cell_type": "markdown",
   "metadata": {},
   "source": [
    "## Exercise 6\n",
    "\n",
    "Load the file downloaded in exercise 3 and plot the temperature for one location. This is also a test if the download was successful. To load the file import the library `xarray`. Typically it is imported by using `import xarray as xr`. Then load the file using the command `xr.load_dataset(filename)`. Check the type of the return value. Then select the data variable `t2m` (temperature at 2m), select the values for `longitude=16.5` and `latitude=48` by using `temperatures_dataset.t2m.sel(longitude=16.5, latitude=48.)`. Then plot the result by calling `.plot()` on the resulting object.\n",
    "\n",
    "Does the result look reasonable?"
   ]
  },
  {
   "cell_type": "code",
   "execution_count": 42,
   "metadata": {},
   "outputs": [
    {
     "name": "stdout",
     "output_type": "stream",
     "text": [
      "<class 'xarray.core.dataset.Dataset'>\n",
      "<xarray.Dataset>\n",
      "Dimensions:    (latitude: 5, longitude: 5, time: 5)\n",
      "Coordinates:\n",
      "  * longitude  (longitude) float32 -13.5 -13.0 -12.5 -12.0 -11.5\n",
      "  * latitude   (latitude) float32 70.0 69.5 69.0 68.5 68.0\n",
      "  * time       (time) datetime64[ns] 2015-01-01 ... 2015-01-01T04:00:00\n",
      "Data variables:\n",
      "    t2m        (time, latitude, longitude) float32 nan nan nan ... nan nan nan\n",
      "Attributes:\n",
      "    Conventions:  CF-1.6\n",
      "    history:      2020-05-28 18:01:29 GMT by grib_to_netcdf-2.16.0: /opt/ecmw...\n"
     ]
    },
    {
     "data": {
      "text/plain": [
       "[<matplotlib.lines.Line2D at 0x22a8a8ad188>]"
      ]
     },
     "execution_count": 42,
     "metadata": {},
     "output_type": "execute_result"
    },
    {
     "data": {
      "image/png": "[encoded data removed]",
      "text/plain": [
       "<Figure size 432x288 with 1 Axes>"
      ]
     },
     "metadata": {
      "needs_background": "light"
     },
     "output_type": "display_data"
    }
   ],
   "source": [
    "import xarray as xr\n",
    "\n",
    "file_name = Path(PATH_TO_LECTURE_REPO) / 'data' / 'temperatures_era5.nc'\n",
    "temp_data = xr.load_dataset(file_name)\n",
    "\n",
    "print(type(temp_data))\n",
    "print(temp_data.head())\n",
    "sel_dat = temp_data.t2m.sel(longitude=16.5, latitude=48.)\n",
    "\n",
    "sel_dat.plot()"
   ]
  }
 ],
 "metadata": {
  "kernelspec": {
   "display_name": "Python 3",
   "language": "python",
   "name": "python3"
  },
  "language_info": {
   "codemirror_mode": {
    "name": "ipython",
    "version": 3
   },
   "file_extension": ".py",
   "mimetype": "text/x-python",
   "name": "python",
   "nbconvert_exporter": "python",
   "pygments_lexer": "ipython3",
   "version": "3.7.6"
  }
 },
 "nbformat": 4,
 "nbformat_minor": 4
}
