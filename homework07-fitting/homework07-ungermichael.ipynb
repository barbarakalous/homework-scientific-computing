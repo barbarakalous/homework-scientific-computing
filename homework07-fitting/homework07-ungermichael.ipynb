{
 "cells": [
  {
   "cell_type": "markdown",
   "metadata": {},
   "source": [
    "# Homework 07"
   ]
  },
  {
   "cell_type": "markdown",
   "metadata": {},
   "source": [
    "### Preparation...\n",
    "\n",
    "Run this code from the lecture to be ready for the exercises below!"
   ]
  },
  {
   "cell_type": "code",
   "execution_count": 18,
   "metadata": {},
   "outputs": [],
   "source": [
    "import glob\n",
    "import os.path\n",
    "\n",
    "import numpy as np\n",
    "import pandas as pd\n",
    "import matplotlib.pyplot as plt\n",
    "\n",
    "\n",
    "from sklearn import datasets, linear_model, ensemble, neural_network\n",
    "from sklearn.metrics import mean_squared_error, r2_score\n",
    "from sklearn.model_selection import train_test_split\n",
    "\n",
    "from pathlib import Path"
   ]
  },
  {
   "cell_type": "code",
   "execution_count": 2,
   "metadata": {},
   "outputs": [],
   "source": [
    "CONFIG_FILE = './entsoe-data.config'\n",
    "\n",
    "if not os.path.exists(CONFIG_FILE):\n",
    "    download_dir = input('Path to ENTSO-E data folder: ')\n",
    "    if not os.path.isdir(download_dir):\n",
    "        raise RuntimeError(f'Invalid download_dir, please run cell again: {download_dir}')\n",
    "    with open(CONFIG_FILE, 'w') as f:\n",
    "        f.write(download_dir)\n",
    "else:\n",
    "    with open(CONFIG_FILE) as f:\n",
    "        download_dir = f.read()\n",
    "        \n",
    "# Clear the output after this cell if you want to aovid having your path in the notebook (or execute it twice)!"
   ]
  },
  {
   "cell_type": "code",
   "execution_count": 3,
   "metadata": {},
   "outputs": [
    {
     "name": "stdout",
     "output_type": "stream",
     "text": [
      "Concatenating 68 csv files...\n",
      "Loading done.\n"
     ]
    }
   ],
   "source": [
    "def read_single_csv_entso_e(file):\n",
    "    return pd.read_csv(file, sep='\\t', encoding='utf-16', parse_dates=[\"DateTime\"])\n",
    "\n",
    "\n",
    "def load_complete_entso_e_data(directory):\n",
    "    pattern = Path(directory) / '*.csv'\n",
    "    files = glob.glob(str(pattern))\n",
    "\n",
    "    if not files:\n",
    "        raise ValueError(f\"No files found when searching in {pattern}, wrong directory?\")\n",
    "    \n",
    "    print(f'Concatenating {len(files)} csv files...')\n",
    "\n",
    "    each_csv_file = [read_single_csv_entso_e(file) for file in files]\n",
    "    data = pd.concat(each_csv_file, ignore_index=True)\n",
    "\n",
    "    data = data.sort_values(by=[\"AreaName\", \"DateTime\"])\n",
    "    data = data.set_index(\"DateTime\")\n",
    "\n",
    "    print(\"Loading done.\")\n",
    "\n",
    "    return data\n",
    "\n",
    "\n",
    "power_demand = load_complete_entso_e_data(download_dir)"
   ]
  },
  {
   "cell_type": "code",
   "execution_count": 4,
   "metadata": {},
   "outputs": [],
   "source": [
    "def get_hourly_country_data(data, country):\n",
    "    ret_data = data[data[\"AreaName\"] == country].interpolate()\n",
    "    #ret_data = ret_data.set_index(\"DateTime\")\n",
    "    ret_data = ret_data.resample(\"1h\").mean().interpolate()\n",
    "    return ret_data\n",
    "\n",
    "power_demand_at_hourly = get_hourly_country_data(power_demand, \"Austria\")[\"2015-01-01\":\"2019-12-31\"]"
   ]
  },
  {
   "cell_type": "markdown",
   "metadata": {},
   "source": [
    "## Exercise 1\n",
    "\n",
    "Explain the following terms:\n",
    "\n",
    "**Input feature:** machine learning algorithms need input data to create an output. This input data needs to have speacial features - usually structured columns - in order to work. \n",
    "\n",
    "**Output feature:** you can train machine learning algorithms with input data in order to create predictions. these predictions are called output. \n",
    "\n",
    "**Fit a function to data:** data consists of discreet values. To make a prediction, we want to create a function, so we can input an arbitrary future date and predict. Fitting a function is the process of decreasing the error between the function that approximates the datapoints and the datapoints themselves.\n",
    "\n",
    "**Training data:** data that helps the algorithm to predict the outcome\n",
    "\n",
    "**Test data:** data that will help the user to see if the algorithm predicts correctly. the basic rule is 80% training data, 20% testing data from your data set. \n",
    "\n",
    "\n",
    "    "
   ]
  },
  {
   "cell_type": "markdown",
   "metadata": {},
   "source": [
    "## Exercise 2\n",
    "\n",
    "In lecture07 we created a plot of the ratio of actual load and predicted load for Austria step by step (Exercise 04). Now put all of this together in one function which takes one parameter `country` as input and calculates and plots the figure of Exercise 04 for this country! The model should be trained on 2015-2019 data and then you should predict for 2020 and compare it to observations. Also do a training/test split and print the R2 for both datasets.\n",
    "\n",
    "Apply the function to the following countries and show the results in one plot: Austria, Germany, Switzerland, Italy, Spain, Sweden, United Kingdom."
   ]
  },
  {
   "cell_type": "markdown",
   "metadata": {},
   "source": [
    "(1) Print the country name. Get the data for the specific country using get_hourly_country_data from the lecture and extract two periods, i.e 2015-2019 and 2020 in two separate dataframes."
   ]
  },
  {
   "cell_type": "markdown",
   "metadata": {},
   "source": [
    "(2) Define X (the input features, i.e. the indicators for time) and Y (i.e. the output feature, the electricity load). Observe that for training, we use the period 2015-2019."
   ]
  },
  {
   "cell_type": "markdown",
   "metadata": {},
   "source": [
    "(3) Do a train/test split"
   ]
  },
  {
   "cell_type": "markdown",
   "metadata": {},
   "source": [
    "(4) Fit the input features to the output feature using a ```RandomForestRegressor```"
   ]
  },
  {
   "cell_type": "markdown",
   "metadata": {},
   "source": [
    "(5) Predict the output with the training data and the test data and compute the R^2 for both!"
   ]
  },
  {
   "cell_type": "markdown",
   "metadata": {},
   "source": [
    "(6) Print the R^2."
   ]
  },
  {
   "cell_type": "markdown",
   "metadata": {},
   "source": [
    "(7) Create a new variable ```X_2020``` which contains the input features for the year 2020."
   ]
  },
  {
   "cell_type": "markdown",
   "metadata": {},
   "source": [
    "(8) Predict with your model the load for 2020."
   ]
  },
  {
   "cell_type": "markdown",
   "metadata": {},
   "source": [
    "(9) Assign your prediction back to the dataframe in a new column and calculate the monthly mean for prediction and for observed load. You might need to copy the dataframe first by doing something like `power_demand_hourly = power_demand_hourly.copy()` (otherwise it might be just a slice of the complete time range and then you can't add a column for some rows only)."
   ]
  },
  {
   "cell_type": "markdown",
   "metadata": {},
   "source": [
    "(10) Plot the ratio of load and prediction. With ```label=country```, you can add a label to your plot for making a legend."
   ]
  },
  {
   "cell_type": "markdown",
   "metadata": {},
   "source": [
    "(11) Execute the function for the following countries: Austria, Germany, Switzerland, Italy, Spain, Sweden, United Kingdom."
   ]
  },
  {
   "cell_type": "markdown",
   "metadata": {},
   "source": [
    "(12) After calling the functions, use ```plt.legend()``` to show a legend."
   ]
  },
  {
   "cell_type": "code",
   "execution_count": 12,
   "metadata": {},
   "outputs": [
    {
     "name": "stdout",
     "output_type": "stream",
     "text": [
      "Country name: Austria\n",
      "Period 1 r2 score test:  0.8294793414795285\n",
      "Period 1 r2 score training:  0.8441846088331973\n",
      "Country name: Germany\n",
      "Period 1 r2 score test:  0.8847746083953704\n",
      "Period 1 r2 score training:  0.8858446198744911\n",
      "Country name: Switzerland\n",
      "Period 1 r2 score test:  0.6384532815943642\n",
      "Period 1 r2 score training:  0.664796519620709\n",
      "Country name: Italy\n",
      "Period 1 r2 score test:  0.8426541690061254\n",
      "Period 1 r2 score training:  0.8612228185669872\n",
      "Country name: Spain\n",
      "Period 1 r2 score test:  0.8348691128211834\n",
      "Period 1 r2 score training:  0.8710142816348845\n",
      "Country name: Sweden\n",
      "Period 1 r2 score test:  0.8327011267407192\n",
      "Period 1 r2 score training:  0.8627758943842865\n",
      "Country name: United Kingdom\n",
      "Period 1 r2 score test:  0.6947334293630847\n",
      "Period 1 r2 score training:  0.7252248815878022\n"
     ]
    },
    {
     "data": {
      "image/png": "[encoded data removed]",
      "text/plain": [
       "<Figure size 432x288 with 1 Axes>"
      ]
     },
     "metadata": {
      "needs_background": "light"
     },
     "output_type": "display_data"
    }
   ],
   "source": [
    "def plot_ratio_for_country(country):\n",
    "    # (1)\n",
    "    print('Country name: ' + country)\n",
    "        \n",
    "    power_demand_hourly_period1 = get_hourly_country_data(power_demand, country)[\"2015-01-01\" : \"2019-12-31\"]\n",
    "    power_demand_hourly_period2 = get_hourly_country_data(power_demand, country)[\"2020-01-01\" : \"2020-12-31\"]\n",
    "\n",
    "    # (2)\n",
    "    X = np.array([power_demand_hourly_period1.index.month.values, power_demand_hourly_period1.index.weekday.values, power_demand_hourly_period1.index.hour.values]).T\n",
    "    Y = power_demand_hourly_period1[\"TotalLoadValue\"].values\n",
    "    \n",
    "    model = ensemble.RandomForestRegressor()\n",
    "    \n",
    "    # (3)\n",
    "    X_training, X_test, Y_training, Y_test = train_test_split(X, Y, test_size=0.2)\n",
    "    \n",
    "    # (4)\n",
    "    model.fit(X_training, Y_training)\n",
    "    \n",
    "    # (5)\n",
    "    prediction_test = model.predict(X_test)\n",
    "    prediction_training = model.predict(X_training)\n",
    "    \n",
    "    r2_score_test = r2_score(Y_test, prediction_test)\n",
    "    r2_score_training = r2_score(Y_training, prediction_training)\n",
    "    \n",
    "    # (6)\n",
    "    print('Period 1 r2 score test: ', r2_score_test)\n",
    "    print('Period 1 r2 score training: ', r2_score_training)\n",
    "    \n",
    "    # (7)\n",
    "    X_2020 = np.array([power_demand_hourly_period2.index.month.values, power_demand_hourly_period2.index.weekday.values, power_demand_hourly_period2.index.hour.values]).T\n",
    "    \n",
    "    # (8)\n",
    "    prediction_2020 = model.predict(X_2020)\n",
    "    \n",
    "    # (9)\n",
    "    # We assign the hourly ratio back, not the average, since the assingment reads 'power_demand_hourly = power_demand_hourly.copy()'\n",
    "    power_demand_hourly_period2['pred_2020'] = power_demand_hourly_period2['TotalLoadValue'].values/prediction_2020\n",
    "    \n",
    "    # (10)\n",
    "    plot = power_demand_hourly_period2.resample('1m').mean()['pred_2020'].plot()\n",
    "    plt.legend(countries)\n",
    "    \n",
    "countries = ['Austria', 'Germany', 'Switzerland', 'Italy', 'Spain', 'Sweden', 'United Kingdom']\n",
    "    \n",
    "for country in countries:\n",
    "    plot_ratio_for_country(country)"
   ]
  },
  {
   "cell_type": "markdown",
   "metadata": {},
   "source": [
    "## Exercise 3\n",
    "Answer the following questions:"
   ]
  },
  {
   "cell_type": "markdown",
   "metadata": {},
   "source": [
    "(1) Which country had the strongest decline in electricity consumption?"
   ]
  },
  {
   "cell_type": "markdown",
   "metadata": {},
   "source": [
    "Without looking at the mean over the whole period, it seems that Italy, UK, and Spain have the biggest divergence from our expected consumption."
   ]
  },
  {
   "cell_type": "markdown",
   "metadata": {},
   "source": [
    "(2) For which country does the fit work best?"
   ]
  },
  {
   "cell_type": "markdown",
   "metadata": {},
   "source": [
    "Germany, because we have the highest r2 value for both the test and training set."
   ]
  },
  {
   "cell_type": "markdown",
   "metadata": {},
   "source": [
    "(3) Where is the difference of R2 between training data and test data the largest? What does that mean?"
   ]
  },
  {
   "cell_type": "markdown",
   "metadata": {},
   "source": [
    "Spain has the highest difference. That means that we might have overfitted the model, since we do better on the training set than on the test set."
   ]
  },
  {
   "cell_type": "markdown",
   "metadata": {},
   "source": [
    "(4) Look into the data of the country with the largest difference in the R2 of the training and the test data. Can you explain what is happening there? Might this effect our model?"
   ]
  },
  {
   "cell_type": "code",
   "execution_count": 21,
   "metadata": {},
   "outputs": [
    {
     "data": {
      "text/plain": [
       "<matplotlib.legend.Legend at 0x7f9b467db8e0>"
      ]
     },
     "execution_count": 21,
     "metadata": {},
     "output_type": "execute_result"
    },
    {
     "data": {
      "image/png": "[encoded data removed]",
      "text/plain": [
       "<Figure size 432x288 with 1 Axes>"
      ]
     },
     "metadata": {
      "needs_background": "light"
     },
     "output_type": "display_data"
    }
   ],
   "source": [
    "power_demand_hourly_period1_spain = get_hourly_country_data(power_demand, 'Spain')[\"2015-01-01\" : \"2019-12-31\"]\n",
    "power_demand_hourly_period2_spain = get_hourly_country_data(power_demand, 'Spain')[\"2020-01-01\" : \"2020-12-31\"]\n",
    "\n",
    "X_spain = np.array([power_demand_hourly_period1_spain.index.month.values, power_demand_hourly_period1_spain.index.weekday.values, power_demand_hourly_period1_spain.index.hour.values]).T\n",
    "Y_spain = power_demand_hourly_period1_spain[\"TotalLoadValue\"].values\n",
    "\n",
    "model = ensemble.RandomForestRegressor()\n",
    "\n",
    "X_training_spain, X_test_spain, Y_training_spain, Y_test_spain = train_test_split(X_spain, Y_spain, test_size=0.2)\n",
    "\n",
    "plt.plot(Y_training_spain, label=\"Training Spain\")\n",
    "plt.plot(Y_test_spain, label=\"Test Spain\", alpha=0.5)\n",
    "plt.xlabel(\"Time\")\n",
    "plt.ylabel(\"Load (MW)\")\n",
    "plt.legend()"
   ]
  },
  {
   "cell_type": "code",
   "execution_count": 23,
   "metadata": {},
   "outputs": [
    {
     "data": {
      "text/plain": [
       "<matplotlib.legend.Legend at 0x7f9b46eb8280>"
      ]
     },
     "execution_count": 23,
     "metadata": {},
     "output_type": "execute_result"
    },
    {
     "data": {
      "image/png": "[encoded data removed]",
      "text/plain": [
       "<Figure size 432x288 with 1 Axes>"
      ]
     },
     "metadata": {
      "needs_background": "light"
     },
     "output_type": "display_data"
    }
   ],
   "source": [
    "power_demand_hourly_period1_germany = get_hourly_country_data(power_demand, 'Germany')[\"2015-01-01\" : \"2019-12-31\"]\n",
    "power_demand_hourly_period2_germany = get_hourly_country_data(power_demand, 'Germany')[\"2020-01-01\" : \"2020-12-31\"]\n",
    "\n",
    "X_germany = np.array([power_demand_hourly_period1_germany.index.month.values, power_demand_hourly_period1_germany.index.weekday.values, power_demand_hourly_period1_germany.index.hour.values]).T\n",
    "                      \n",
    "model = ensemble.RandomForestRegressor()\n",
    "\n",
    "X_training_germany, X_test_germany, Y_training_germany, Y_test_germany = train_test_split(X_germany, Y_germany, test_size=0.2)\n",
    "                      \n",
    "plt.plot(Y_training_germany, label=\"Training Germany\")\n",
    "plt.plot(Y_test_germany, label=\"Test Germany\", alpha=0.5)\n",
    "plt.xlabel(\"Time\")\n",
    "plt.ylabel(\"Load (MW)\")\n",
    "plt.legend()"
   ]
  },
  {
   "cell_type": "markdown",
   "metadata": {},
   "source": [
    "As we can see in the plots above, the test data set seems to vary with a higher degree for Spain than it does for Germany. Due to that fact, it makes sense that the model has more difficulty predicting for the Spain's test set."
   ]
  },
  {
   "cell_type": "markdown",
   "metadata": {},
   "source": [
    "## Exercise 4"
   ]
  },
  {
   "cell_type": "markdown",
   "metadata": {},
   "source": [
    "The difference between model prediction and actual observation may help understanding how people behaved during the lockdown. In this exercise, you should come up with your own hypothesis of how people behaved and how this affected power consumption. You may, e.g., look into demand on different weekdays or in different hours. Once you have a hypothesis and a theory, why this hypothesis may be valid, test it with the model: is your hypothesis covered by what you observe in the load data?"
   ]
  },
  {
   "cell_type": "markdown",
   "metadata": {},
   "source": [
    "Hypothesis: during lockdown, people rather do online activities because they can't meet (e.g. Netflix). Therefore the powerconsumption in the evening hours actually increased."
   ]
  },
  {
   "cell_type": "code",
   "execution_count": 39,
   "metadata": {},
   "outputs": [
    {
     "name": "stdout",
     "output_type": "stream",
     "text": [
      "Period 1 r2 score test:  0.8323949953465842\n",
      "Period 1 r2 score training:  0.8437147096530475\n"
     ]
    },
    {
     "data": {
      "image/png": "[encoded data removed]",
      "text/plain": [
       "<Figure size 432x288 with 1 Axes>"
      ]
     },
     "metadata": {
      "needs_background": "light"
     },
     "output_type": "display_data"
    }
   ],
   "source": [
    "def check_evening_consumption():\n",
    "    power_demand_at_hourly_evening_p1 = power_demand_at_hourly.copy()\n",
    "    power_demand_at_hourly_evening_p1.drop(power_demand_at_hourly_evening_p1.between_time(\"00:00\", \"19:59\").index)\n",
    "\n",
    "    power_demand_at_hourly_evening_p2 = get_hourly_country_data(power_demand, \"Austria\")[\"2020-01-01\":\"2020-12-31\"]\n",
    "    power_demand_at_hourly_evening_p2.drop(power_demand_at_hourly_evening_p2.between_time(\"00:00\", \"19:59\").index)\n",
    "\n",
    "    X = np.array([power_demand_at_hourly_evening_p1.index.month.values, power_demand_at_hourly_evening_p1.index.weekday.values, power_demand_at_hourly_evening_p1.index.hour.values]).T\n",
    "    Y = power_demand_at_hourly_evening_p1[\"TotalLoadValue\"].values\n",
    "\n",
    "    model = ensemble.RandomForestRegressor()\n",
    "\n",
    "    X_training, X_test, Y_training, Y_test = train_test_split(X, Y, test_size=0.2)\n",
    "\n",
    "    model.fit(X_training, Y_training)\n",
    "\n",
    "    prediction_test = model.predict(X_test)\n",
    "    prediction_training = model.predict(X_training)\n",
    "\n",
    "    r2_score_test = r2_score(Y_test, prediction_test)\n",
    "    r2_score_training = r2_score(Y_training, prediction_training)\n",
    "\n",
    "    print('Period 1 r2 score test: ', r2_score_test)\n",
    "    print('Period 1 r2 score training: ', r2_score_training)\n",
    "\n",
    "    X_2020 = np.array([power_demand_at_hourly_evening_p2.index.month.values, power_demand_at_hourly_evening_p2.index.weekday.values, power_demand_at_hourly_evening_p2.index.hour.values]).T\n",
    "\n",
    "    prediction_2020 = model.predict(X_2020)\n",
    "\n",
    "    power_demand_at_hourly_evening_p2['pred_2020'] = power_demand_at_hourly_evening_p2['TotalLoadValue'].values/prediction_2020\n",
    "\n",
    "    plot = power_demand_at_hourly_evening_p2.resample('1m').mean()['pred_2020'].plot()\n",
    "    plt.legend('Austria')\n",
    "    \n",
    "check_evening_consumption()"
   ]
  },
  {
   "cell_type": "markdown",
   "metadata": {},
   "source": [
    "Result: still less consumption than predicted :( let's hope people read books instead."
   ]
  },
  {
   "cell_type": "markdown",
   "metadata": {},
   "source": [
    "## Exercise 5\n",
    "\n",
    "Download ERA5 temperature data for the next lecture.\n",
    "\n",
    "First install necessary dependencies `xarray` and `cdsapi`:"
   ]
  },
  {
   "cell_type": "code",
   "execution_count": 5,
   "metadata": {},
   "outputs": [
    {
     "name": "stdout",
     "output_type": "stream",
     "text": [
      "Collecting package metadata (current_repodata.json): done\n",
      "Solving environment: done\n",
      "\n",
      "## Package Plan ##\n",
      "\n",
      "  environment location: /home/lukas/miniconda3\n",
      "\n",
      "  added / updated specs:\n",
      "    - xarray\n",
      "\n",
      "\n",
      "The following packages will be downloaded:\n",
      "\n",
      "    package                    |            build\n",
      "    ---------------------------|-----------------\n",
      "    xarray-0.15.1              |             py_0         460 KB\n",
      "    ------------------------------------------------------------\n",
      "                                           Total:         460 KB\n",
      "\n",
      "The following NEW packages will be INSTALLED:\n",
      "\n",
      "  xarray             pkgs/main/noarch::xarray-0.15.1-py_0\n",
      "\n",
      "\n",
      "\n",
      "Downloading and Extracting Packages\n",
      "xarray-0.15.1        | 460 KB    | ##################################### | 100% \n",
      "Preparing transaction: done\n",
      "Verifying transaction: done\n",
      "Executing transaction: done\n",
      "\n",
      "Note: you may need to restart the kernel to use updated packages.\n"
     ]
    }
   ],
   "source": [
    "conda install --yes xarray"
   ]
  },
  {
   "cell_type": "code",
   "execution_count": 6,
   "metadata": {},
   "outputs": [
    {
     "name": "stdout",
     "output_type": "stream",
     "text": [
      "Collecting package metadata (current_repodata.json): done\n",
      "Solving environment: done\n",
      "\n",
      "## Package Plan ##\n",
      "\n",
      "  environment location: /home/lukas/miniconda3\n",
      "\n",
      "  added / updated specs:\n",
      "    - cdsapi\n",
      "\n",
      "\n",
      "The following packages will be downloaded:\n",
      "\n",
      "    package                    |            build\n",
      "    ---------------------------|-----------------\n",
      "    cdsapi-0.2.7               |             py_0          14 KB  conda-forge\n",
      "    ------------------------------------------------------------\n",
      "                                           Total:          14 KB\n",
      "\n",
      "The following NEW packages will be INSTALLED:\n",
      "\n",
      "  cdsapi             conda-forge/noarch::cdsapi-0.2.7-py_0\n",
      "\n",
      "The following packages will be UPDATED:\n",
      "\n",
      "  ca-certificates     pkgs/main::ca-certificates-2020.1.1-0 --> conda-forge::ca-certificates-2020.4.5.1-hecc5488_0\n",
      "  conda                       pkgs/main::conda-4.8.3-py37_0 --> conda-forge::conda-4.8.3-py37hc8dfbb8_1\n",
      "\n",
      "The following packages will be SUPERSEDED by a higher-priority channel:\n",
      "\n",
      "  certifi              pkgs/main::certifi-2020.4.5.1-py37_0 --> conda-forge::certifi-2020.4.5.1-py37hc8dfbb8_0\n",
      "  openssl              pkgs/main::openssl-1.1.1g-h7b6447c_0 --> conda-forge::openssl-1.1.1g-h516909a_0\n",
      "\n",
      "\n",
      "\n",
      "Downloading and Extracting Packages\n",
      "cdsapi-0.2.7         | 14 KB     | ##################################### | 100% \n",
      "Preparing transaction: done\n",
      "Verifying transaction: done\n",
      "Executing transaction: done\n",
      "\n",
      "Note: you may need to restart the kernel to use updated packages.\n"
     ]
    }
   ],
   "source": [
    "conda install --yes -c conda-forge cdsapi"
   ]
  },
  {
   "cell_type": "markdown",
   "metadata": {},
   "source": [
    "The [Copernicus Climate Data Store](https://cds.climate.copernicus.eu/) provides [reanalysis climate data](https://cds.climate.copernicus.eu/cdsapp#!/search?type=dataset&keywords=((%20%22Product%20type:%20Reanalysis%22%20))). We are going to download [ERA5](https://cds.climate.copernicus.eu/cdsapp#!/dataset/reanalysis-era5-land?tab=form) data and use the [temperature 2m above ground values](https://apps.ecmwf.int/codes/grib/param-db?id=167)."
   ]
  },
  {
   "cell_type": "markdown",
   "metadata": {},
   "source": [
    "Register for the CDS API and install the API key by following [this guide](https://cds.climate.copernicus.eu/api-how-to). You don't need to run `pip install cdsapi`, this has been done in the cell above already using conda."
   ]
  },
  {
   "cell_type": "code",
   "execution_count": 4,
   "metadata": {},
   "outputs": [],
   "source": [
    "import cdsapi\n",
    "\n",
    "c = cdsapi.Client()"
   ]
  },
  {
   "cell_type": "code",
   "execution_count": 19,
   "metadata": {},
   "outputs": [],
   "source": [
    "# Add the path to the lecture repository here:\n",
    "PATH_TO_LECTURE_REPO = '../..'\n",
    "\n",
    "if not os.path.isdir(Path(PATH_TO_LECTURE_REPO) / 'lecture00-introduction'):\n",
    "    raise RuntimeError(f\"Wrong path to lecture repository: PATH_TO_LECTURE_REPO = {PATH_TO_LECTURE_REPO}\")"
   ]
  },
  {
   "cell_type": "markdown",
   "metadata": {},
   "source": [
    "We'll download data from 2015 to 2020 in a bounding box which covers all countries we used so far for our analysis.\n",
    "To make the download a bit faster, we'll use a [0.5° grid](https://confluence.ecmwf.int/display/CKB/ERA5%3A+Web+API+to+CDS+API) instead of the 0.1° grid. This will download approximately 500MB. The download might take a couple of hours, because the data is prepared on their servers before it can be downloaded."
   ]
  },
  {
   "cell_type": "code",
   "execution_count": 12,
   "metadata": {},
   "outputs": [
    {
     "name": "stderr",
     "output_type": "stream",
     "text": [
      "2020-06-03 14:58:12,973 INFO Welcome to the CDS\n",
      "2020-06-03 14:58:12,974 INFO Sending request to https://cds.climate.copernicus.eu/api/v2/resources/reanalysis-era5-land\n",
      "2020-06-03 14:58:13,665 INFO Downloading http://136.156.132.201/cache-compute-0004/cache/data2/adaptor.mars.internal-1591183051.143155-14109-29-85466677-b2b7-422c-8304-0a46d57630dc.nc to /mnt/c/Users/Lukas/Desktop/Herzblatt/data/temperatures_era5.nc.part (473.2M)\n",
      "2020-06-03 15:00:44,325 INFO Download rate 3.1M/s   \n"
     ]
    }
   ],
   "source": [
    "filename = Path(PATH_TO_LECTURE_REPO) / 'data' / 'temperatures_era5.nc'\n",
    "\n",
    "north, west, south, east = 70.,-13.5, 35.5, 24.5\n",
    "\n",
    "c.retrieve(\n",
    "    'reanalysis-era5-land',\n",
    "    {\n",
    "        'format': 'netcdf',\n",
    "        'variable': '2m_temperature',\n",
    "        'area': [\n",
    "            north, west, south, east\n",
    "        ],\n",
    "        'grid': [0.5, 0.5],  # grid in 0.5deg steps in longitude/latitude\n",
    "        'day': [f\"{day:02d}\" for day in range(1, 32)],\n",
    "        'time': [f\"{hour:02d}:00\" for hour in range(24)],\n",
    "        'month': [f\"{month:02d}\" for month in range(1, 13)],\n",
    "        'year': [str(year) for year in range(2015, 2021)],\n",
    "    },\n",
    "    f\"{filename}.part\")\n",
    "\n",
    "# this prevents you from accidentally using broken files:\n",
    "os.rename(f\"{filename}.part\", filename)"
   ]
  },
  {
   "cell_type": "markdown",
   "metadata": {},
   "source": [
    "## Exercise 6\n",
    "\n",
    "Load the file downloaded in exercise 3 and plot the temperature for one location. This is also a test if the download was successful. To load the file import the library `xarray`. Typically it is imported by using `import xarray as xr`. Then load the file using the command `xr.load_dataset(filename)`. Check the type of the return value. Then select the data variable `t2m` (temperature at 2m), select the values for `longitude=16.5` and `latitude=48` by using `temperatures_dataset.t2m.sel(longitude=16.5, latitude=48.)`. Then plot the result by calling `.plot()` on the resulting object.\n",
    "\n",
    "Does the result look reasonable?"
   ]
  },
  {
   "cell_type": "code",
   "execution_count": 14,
   "metadata": {},
   "outputs": [],
   "source": [
    "import xarray as xr\n",
    "\n",
    "dataset = xr.load_dataset(filename)"
   ]
  },
  {
   "cell_type": "code",
   "execution_count": 22,
   "metadata": {},
   "outputs": [
    {
     "data": {
      "text/plain": [
       "[<matplotlib.lines.Line2D at 0x7f5483504810>]"
      ]
     },
     "execution_count": 22,
     "metadata": {},
     "output_type": "execute_result"
    },
    {
     "data": {
      "image/png": "[encoded data removed]",
      "text/plain": [
       "<Figure size 432x288 with 1 Axes>"
      ]
     },
     "metadata": {
      "needs_background": "light"
     },
     "output_type": "display_data"
    }
   ],
   "source": [
    "dataset.t2m.sel(longitude=16.5, latitude=48.).plot()"
   ]
  },
  {
   "cell_type": "markdown",
   "metadata": {},
   "source": [
    "Data looks reasonable for temparatures throughout the year around Vienna."
   ]
  }
 ],
 "metadata": {
  "kernelspec": {
   "display_name": "Python 3",
   "language": "python",
   "name": "python3"
  },
  "language_info": {
   "codemirror_mode": {
    "name": "ipython",
    "version": 3
   },
   "file_extension": ".py",
   "mimetype": "text/x-python",
   "name": "python",
   "nbconvert_exporter": "python",
   "pygments_lexer": "ipython3",
   "version": "3.7.6"
  }
 },
 "nbformat": 4,
 "nbformat_minor": 4
}
