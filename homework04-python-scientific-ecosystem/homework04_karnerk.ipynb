{
 "cells": [
  {
   "cell_type": "markdown",
   "metadata": {},
   "source": [
    "# Homework 04 - Numpy"
   ]
  },
  {
   "cell_type": "markdown",
   "metadata": {},
   "source": [
    "### Exercise 1 - Terminology\n",
    "\n",
    "Describe the following terms with your own words:\n",
    "\n",
    "***numpy array:*** an array only readable/useable in numpy\n",
    "\n",
    "***broadcasting:*** how numpy treats arrays"
   ]
  },
  {
   "cell_type": "markdown",
   "metadata": {},
   "source": [
    "Answer the following questions:\n",
    "\n",
    "***What is the difference between a Python list and a Numpy array?*** the numpy library can only handle Numpy arrays and is way faster and arrays need to me symmetrical in Numpy (i.e. each row needs to have the same amount of columns)\n",
    "\n",
    "\n",
    "***How can you avoid using loops or list comprehensions when working with Numpy?*** Numpy can combine arrays and numbers arithmetrically while this is not possible for Python lists where you would need loops or list comprehensions: e.g. np.array([2,4,5]) + 10 results in array([12,14,15]) while this would cause a type error with Ptyhon lists; here you would need to do: [for i+10 for i in list]\n",
    "\n",
    "\n",
    "***Give different examples of usages of square brackets `[]` in Python and Numpy? Describe at least two completely different ones!*** in Python: creating lists and accessing elements of an list, e.g. l[1]; in Numpy to access elements of the array e.g. ar[1,1]\n",
    "\n",
    "\n",
    "***Give different examples of usages of round brackets `()` in Python and Numpy? Describe at least two completely different ones! (Bonus: give a third example not covered in the lecture until now!)*** to get the length of the list or numpy array, e.g. len(); in Numpy to create arrays; i.e. np.array([x,y,z])\n",
    "\n"
   ]
  },
  {
   "cell_type": "markdown",
   "metadata": {},
   "source": [
    "### Exercise 2 - rotate and plot points in 2D\n",
    "\n",
    "Plot the 5 points in 2D defined in the array `points`, then rotate the points by 90 degrees by performing a matrix multiplication with a [rotation matrix](https://en.wikipedia.org/wiki/Rotation_matrix) by using `rotation_matrix @ points` and plot the result in the same plot. The rotation angle needs to be converted to radians before it is passed to `np.cos()` and `np.sin()`, use `np.radians(90)` to do so."
   ]
  },
  {
   "cell_type": "code",
   "execution_count": 58,
   "metadata": {},
   "outputs": [],
   "source": [
    "import numpy as np\n",
    "import matplotlib.pyplot as plt\n",
    "\n",
    "points = np.array([[0, 0],\n",
    "                   [1, 1],\n",
    "                   [-1, -1],\n",
    "                   [0, 1],\n",
    "                   [0, 0.7],\n",
    "                  ]).T\n",
    "\n",
    "angle = np.radians(90)\n",
    "cosinus_thet = np.cos(angle)\n",
    "sinus_thet = np.sin(angle)\n",
    "rotation_matrix = np.array([[cosinus_thet, -sinus_thet],\n",
    "                           [sinus_thet,cosinus_thet]])\n",
    "\n",
    "points_rotated = rotation_matrix @ points"
   ]
  },
  {
   "cell_type": "markdown",
   "metadata": {},
   "source": [
    "The result should like like this:"
   ]
  },
  {
   "cell_type": "code",
   "execution_count": 61,
   "metadata": {},
   "outputs": [
    {
     "data": {
      "text/plain": [
       "<matplotlib.legend.Legend at 0x23262459e48>"
      ]
     },
     "execution_count": 61,
     "metadata": {},
     "output_type": "execute_result"
    },
    {
     "data": {
      "image/png": "[encoded data removed]",
      "text/plain": [
       "<Figure size 432x288 with 1 Axes>"
      ]
     },
     "metadata": {
      "needs_background": "light"
     },
     "output_type": "display_data"
    }
   ],
   "source": [
    "plt.plot(*points, 'o', label='original points')\n",
    "plt.plot(*points_rotated, 'o', label='rotated points')\n",
    "plt.gca().set_aspect('equal'),\n",
    "plt.legend()"
   ]
  },
  {
   "cell_type": "markdown",
   "metadata": {},
   "source": [
    "### Exercise 3 - Flatten the curve\n",
    "\n",
    "Copy the function `new_infections(t, k)` from last week's homework (exercise 3) and re-do the exercise using Numpy arrays instead of Python lists.\n",
    "\n",
    "What needs to be changed in the function `new_infections(t, k)` to make this work?"
   ]
  },
  {
   "cell_type": "code",
   "execution_count": 70,
   "metadata": {},
   "outputs": [
    {
     "data": {
      "text/plain": [
       "<matplotlib.legend.Legend at 0x232627b7cc8>"
      ]
     },
     "execution_count": 70,
     "metadata": {},
     "output_type": "execute_result"
    },
    {
     "data": {
      "image/png": "[encoded data removed]",
      "text/plain": [
       "<Figure size 432x288 with 1 Axes>"
      ]
     },
     "metadata": {
      "needs_background": "light"
     },
     "output_type": "display_data"
    }
   ],
   "source": [
    "import math\n",
    "import matplotlib.pyplot as plt \n",
    "import numpy as np\n",
    "\n",
    "def new_infections(t,k,P,i0):\n",
    "        result = (((np.exp(-k*P*t))*k*(P**2)*(-1+(P/i0)))/(1+(np.exp(-k*P*t))*(-1+(P/i0)))**2) \n",
    "        return result\n",
    "    \n",
    "\n",
    "time=np.arange(250)\n",
    "Pop=1000000\n",
    "k= 3/(Pop*10)\n",
    "inf=new_infections(time,k,Pop,1)    \n",
    "\n",
    "cap=[10000]*len(time)\n",
    "plt.plot(time,cap,label=\"health sysetm capacity\")\n",
    "plt.xlabel(\"Time\")\n",
    "plt.ylabel(\"Number of new infections\")\n",
    "\n",
    "plt.plot(time,inf,label=\"new infections,k=3/(10P)\")\n",
    "\n",
    "plt.legend()"
   ]
  },
  {
   "cell_type": "markdown",
   "metadata": {},
   "source": [
    "### Exercise 4 - Mean of random numbers\n",
    "\n",
    "Generate 100 random values between 0 and 1 (uniformly distributed) and plot them. Then calculate the mean value of the first i values for $i=1,\\ldots,100$ and plot this list too.\n",
    "\n",
    "To solve the exercise find out how to generate random values with Numpy! How did you find an answer? Which possible ways are there? List at least ***2 to 5 different ways*** to look up what a numpy function does!\n",
    "\n",
    "Note: To solve this exercise, a list comprehension is necessary. Pure Numpy is faster, but probably not a good idea here."
   ]
  },
  {
   "cell_type": "code",
   "execution_count": 71,
   "metadata": {},
   "outputs": [
    {
     "data": {
      "text/plain": [
       "Text(0.5, 1.0, '100 random numbers')"
      ]
     },
     "execution_count": 71,
     "metadata": {},
     "output_type": "execute_result"
    },
    {
     "data": {
      "image/png": "[encoded data removed]",
      "text/plain": [
       "<Figure size 432x288 with 1 Axes>"
      ]
     },
     "metadata": {
      "needs_background": "light"
     },
     "output_type": "display_data"
    }
   ],
   "source": [
    "import numpy as np\n",
    "\n",
    "random_1 = np.random.random_sample((100,))\n",
    "\n",
    "plt.plot(random_1,'o',label=\"100 random numbers\")\n",
    "plt.title(\"100 random numbers\")"
   ]
  },
  {
   "cell_type": "code",
   "execution_count": 72,
   "metadata": {
    "scrolled": true
   },
   "outputs": [
    {
     "data": {
      "text/plain": [
       "Text(0.5, 1.0, 'Mean of 100 random numbers')"
      ]
     },
     "execution_count": 72,
     "metadata": {},
     "output_type": "execute_result"
    },
    {
     "data": {
      "image/png": "[encoded data removed]",
      "text/plain": [
       "<Figure size 432x288 with 1 Axes>"
      ]
     },
     "metadata": {
      "needs_background": "light"
     },
     "output_type": "display_data"
    }
   ],
   "source": [
    "#calc mean \n",
    "mean_1 = [np.mean(i) for i in random_1]\n",
    "#plot\n",
    "plt.plot(mean_1,'o',label=\"mean of random numbers\",color=\"red\")\n",
    "\n",
    "plt.title(\"Mean of 100 random numbers\")"
   ]
  },
  {
   "cell_type": "code",
   "execution_count": 75,
   "metadata": {},
   "outputs": [
    {
     "data": {
      "text/plain": [
       "array([0.46056788, 0.91179048, 0.09875415, 0.17973736, 0.38253288,\n",
       "       0.40086666, 0.06718448, 0.19743424, 0.32587546, 0.74218076,\n",
       "       0.1606794 , 0.89019099, 0.92134138, 0.98597623, 0.9365192 ,\n",
       "       0.90297347, 0.01849295, 0.44745456, 0.03811833, 0.17468725,\n",
       "       0.46628977, 0.12979542, 0.88054901, 0.32817335, 0.12232861,\n",
       "       0.36092128, 0.78474969, 0.15587368, 0.11689607, 0.09319651,\n",
       "       0.26921636, 0.00848232, 0.96509735, 0.30968671, 0.29057158,\n",
       "       0.43049199, 0.90910978, 0.75062494, 0.0378604 , 0.25609351,\n",
       "       0.68663688, 0.58603622, 0.44853124, 0.82176007, 0.32800464,\n",
       "       0.30650293, 0.02864096, 0.80210411, 0.45342573, 0.76483681,\n",
       "       0.00850381, 0.2878153 , 0.73688083, 0.16805618, 0.33460569,\n",
       "       0.19656733, 0.08272516, 0.27325275, 0.74844159, 0.39998155,\n",
       "       0.64093598, 0.46244372, 0.36815115, 0.81134832, 0.80064388,\n",
       "       0.59200602, 0.36099531, 0.89133003, 0.77170184, 0.87741532,\n",
       "       0.68005555, 0.25743106, 0.06461444, 0.31934103, 0.90762355,\n",
       "       0.79370925, 0.08651495, 0.94439535, 0.98152361, 0.7039394 ,\n",
       "       0.29634887, 0.65147338, 0.46421098, 0.77650203, 0.97913788,\n",
       "       0.02306594, 0.88517307, 0.24412989, 0.64426091, 0.30765556,\n",
       "       0.86959644, 0.94965864, 0.36551367, 0.57580366, 0.23222669,\n",
       "       0.40163461, 0.36535587, 0.95347029, 0.92628831, 0.19085805])"
      ]
     },
     "execution_count": 75,
     "metadata": {},
     "output_type": "execute_result"
    }
   ],
   "source": [
    "#other ways to calculate random numbers\n",
    "#np.random?\n",
    "\n",
    "np.random.rand(100)\n",
    "np.random.randn(100)\n",
    "np.random.ranf(100)\n",
    "np.random.uniform(0,1,100)"
   ]
  }
 ],
 "metadata": {
  "kernelspec": {
   "display_name": "Python 3",
   "language": "python",
   "name": "python3"
  },
  "language_info": {
   "codemirror_mode": {
    "name": "ipython",
    "version": 3
   },
   "file_extension": ".py",
   "mimetype": "text/x-python",
   "name": "python",
   "nbconvert_exporter": "python",
   "pygments_lexer": "ipython3",
   "version": "3.7.6"
  }
 },
 "nbformat": 4,
 "nbformat_minor": 4
}
