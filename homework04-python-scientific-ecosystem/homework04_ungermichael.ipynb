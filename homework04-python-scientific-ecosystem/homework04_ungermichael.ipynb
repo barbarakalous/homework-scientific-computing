{
 "cells": [
  {
   "cell_type": "markdown",
   "metadata": {},
   "source": [
    "# Homework 04 - Numpy"
   ]
  },
  {
   "cell_type": "markdown",
   "metadata": {},
   "source": [
    "### Exercise 1 - Terminology\n",
    "\n",
    "Describe the following terms with your own words:\n",
    "\n",
    "***numpy array:*** = the name for a list in numpy\n",
    "\n",
    "\n",
    "***broadcasting:*** = numpy can use arrays of differnet shapes during arithmetic operations. Usually, if the dimensions of two arrayw are not similiar, element-to-elemnt operations are not possible. To do so anyway, numpy broadcast the smaller array to the larger array so that they have similar shapes. "
   ]
  },
  {
   "cell_type": "markdown",
   "metadata": {},
   "source": [
    "Answer the following questions:\n",
    "\n",
    "***What is the difference between a Python list and a Numpy array?***\n",
    "Both are the name for lists, but there are differences in terms of size, performance and functionality. Numpy arrays take up less space and should use less memory and are therefore faster than python lists (in termof runtime behaviour). Also, numpy arrays have optimized functions built in. \n",
    "\n",
    "***How can you avoid using loops or list comprehensions when working with Numpy?***\n",
    "Numpy has many convenience features. E.g. we can do matrix multiplications by simply using the @ operator. \n",
    "\n",
    "***Give different examples of usages of square brackets `[]` in Python and Numpy? Describe at least two completely different ones!***\n",
    "\n",
    "Pyhon:\n",
    "***(.)creating lists*** \n",
    "i.e. list_1 = [1,2,3,4,5,6,7]\n",
    "***(.) indexing*** \n",
    "i.e. list_1[1]\n",
    " -> 2\n",
    "\n",
    "Numpy\n",
    "***(.)indexing***\n",
    "i.e. arbitrary_values = array ([1.,2.,3.,4.,5.,6.,7.,8.,9.,10.])\n",
    "arbitrary_values[2]\n",
    " -> 3. \n",
    "***(.)showing a range within a list*** \n",
    "i.e. arbitray_values[:]\n",
    "1.,2.,3.,4.,5.,6.,7.,8.,9.,10.\n",
    "ie. arbitrary_values[5:]\n",
    "6.,7.,8.,9.,10.\n",
    "\n",
    "***Give different examples of usages of round brackets `()` in Python and Numpy? Describe at least two completely different ones! (Bonus: give a third example not covered in the lecture until now!)***\n",
    "\n",
    "Python:\n",
    "***(.) calling a function***\n",
    "e.g. sum([1,2,3])\n",
    "***(.) function definitions***\n",
    "e.g. def my_function():\n",
    "\n",
    "Numpy: \n",
    "***(.) creating lists*** \n",
    "np.array([1.,3.,5.])"
   ]
  },
  {
   "cell_type": "markdown",
   "metadata": {},
   "source": [
    "### Exercise 2 - rotate and plot points in 2D\n",
    "\n",
    "Plot the 5 points in 2D defined in the array `points`, then rotate the points by 90 degrees by performing a matrix multiplication with a [rotation matrix](https://en.wikipedia.org/wiki/Rotation_matrix) by using `rotation_matrix @ points` and plot the result in the same plot. The rotation angle needs to be converted to radians before it is passed to `np.cos()` and `np.sin()`, use `np.radians(90)` to do so."
   ]
  },
  {
   "cell_type": "code",
   "execution_count": 1,
   "metadata": {},
   "outputs": [],
   "source": [
    "import numpy as np\n",
    "import matplotlib.pyplot as plt\n",
    "\n",
    "points = np.array([[0, 0],\n",
    "                   [1, 1],\n",
    "                   [-1, -1],\n",
    "                   [0, 1],\n",
    "                   [0, 0.7],\n",
    "                  ]).T"
   ]
  },
  {
   "cell_type": "markdown",
   "metadata": {},
   "source": [
    "The result should like like this:"
   ]
  },
  {
   "cell_type": "code",
   "execution_count": 2,
   "metadata": {},
   "outputs": [
    {
     "ename": "NameError",
     "evalue": "name 'points_rotated' is not defined",
     "output_type": "error",
     "traceback": [
      "\u001b[1;31m---------------------------------------------------------------------------\u001b[0m",
      "\u001b[1;31mNameError\u001b[0m                                 Traceback (most recent call last)",
      "\u001b[1;32m<ipython-input-2-c3b1ecebd210>\u001b[0m in \u001b[0;36m<module>\u001b[1;34m\u001b[0m\n\u001b[0;32m      1\u001b[0m \u001b[0mplt\u001b[0m\u001b[1;33m.\u001b[0m\u001b[0mplot\u001b[0m\u001b[1;33m(\u001b[0m\u001b[1;33m*\u001b[0m\u001b[0mpoints\u001b[0m\u001b[1;33m,\u001b[0m \u001b[1;34m'o'\u001b[0m\u001b[1;33m,\u001b[0m \u001b[0mlabel\u001b[0m\u001b[1;33m=\u001b[0m\u001b[1;34m'original points'\u001b[0m\u001b[1;33m)\u001b[0m\u001b[1;33m\u001b[0m\u001b[1;33m\u001b[0m\u001b[0m\n\u001b[1;32m----> 2\u001b[1;33m \u001b[0mplt\u001b[0m\u001b[1;33m.\u001b[0m\u001b[0mplot\u001b[0m\u001b[1;33m(\u001b[0m\u001b[1;33m*\u001b[0m\u001b[0mpoints_rotated\u001b[0m\u001b[1;33m,\u001b[0m \u001b[1;34m'o'\u001b[0m\u001b[1;33m,\u001b[0m \u001b[0mlabel\u001b[0m\u001b[1;33m=\u001b[0m\u001b[1;34m'rotated points'\u001b[0m\u001b[1;33m)\u001b[0m\u001b[1;33m\u001b[0m\u001b[1;33m\u001b[0m\u001b[0m\n\u001b[0m\u001b[0;32m      3\u001b[0m \u001b[0mplt\u001b[0m\u001b[1;33m.\u001b[0m\u001b[0mgca\u001b[0m\u001b[1;33m(\u001b[0m\u001b[1;33m)\u001b[0m\u001b[1;33m.\u001b[0m\u001b[0mset_aspect\u001b[0m\u001b[1;33m(\u001b[0m\u001b[1;34m'equal'\u001b[0m\u001b[1;33m)\u001b[0m\u001b[1;33m\u001b[0m\u001b[1;33m\u001b[0m\u001b[0m\n",
      "\u001b[1;31mNameError\u001b[0m: name 'points_rotated' is not defined"
     ]
    },
    {
     "data": {
      "image/png": "[encoded data removed]",
      "text/plain": [
       "<Figure size 432x288 with 1 Axes>"
      ]
     },
     "metadata": {
      "needs_background": "light"
     },
     "output_type": "display_data"
    }
   ],
   "source": [
    "plt.plot(*points, 'o', label='original points')\n",
    "plt.plot(*points_rotated, 'o', label='rotated points')\n",
    "plt.gca().set_aspect('equal')"
   ]
  },
  {
   "cell_type": "code",
   "execution_count": 10,
   "metadata": {},
   "outputs": [
    {
     "data": {
      "text/plain": [
       "<matplotlib.legend.Legend at 0x1887014af88>"
      ]
     },
     "execution_count": 10,
     "metadata": {},
     "output_type": "execute_result"
    },
    {
     "data": {
      "image/png": "[encoded data removed]",
      "text/plain": [
       "<Figure size 432x288 with 1 Axes>"
      ]
     },
     "metadata": {
      "needs_background": "light"
     },
     "output_type": "display_data"
    }
   ],
   "source": [
    "def rotate_matrix(matrix, theta):\n",
    "    rad_theta = np.radians(theta)\n",
    "    rotation_matrix = np.array([[np.cos(rad_theta), -np.sin(rad_theta)],\n",
    "                                [np.sin(rad_theta), np.cos(rad_theta)]])\n",
    "    \n",
    "    return rotation_matrix @ matrix\n",
    "\n",
    "rotated_points = rotate_matrix(points, 90)\n",
    "\n",
    "plt.clf()\n",
    "plt.plot(*points, 'o', label = \"original points\")\n",
    "plt.plot(*rotated_points, 'o', label = 'rotated points', color = \"yellow\")\n",
    "plt.legend()"
   ]
  },
  {
   "cell_type": "markdown",
   "metadata": {},
   "source": [
    "### Exercise 3 - Flatten the curve\n",
    "\n",
    "Copy the function `new_infections(t, k)` from last week's homework (exercise 3) and re-do the exercise using Numpy arrays instead of Python lists.\n",
    "\n",
    "What needs to be changed in the function `new_infections(t, k)` to make this work?"
   ]
  },
  {
   "cell_type": "code",
   "execution_count": 26,
   "metadata": {
    "scrolled": true
   },
   "outputs": [
    {
     "data": {
      "image/png": "[encoded data removed]",
      "text/plain": [
       "<Figure size 432x288 with 1 Axes>"
      ]
     },
     "metadata": {
      "needs_background": "light"
     },
     "output_type": "display_data"
    }
   ],
   "source": [
    "import math\n",
    "from math import e\n",
    "\n",
    "P = 1000000\n",
    "i_0 = 1\n",
    "\n",
    "def new_infections(t, k):    \n",
    "    i_new = (((np.exp(-k*P*t))*k*(P**2)*(-1+(P/i_0)))/(1+(np.exp(-k*P*t))*(-1+(P/i_0)))**2)\n",
    "    return i_new\n",
    "\n",
    "np_new_infections = np.arange(251)\n",
    "\n",
    "plt.plot(new_infections(np_new_infections, 3/(P*10)), label='Predicted Infections w/ k=3/10P')\n",
    "plt.plot(new_infections(np_new_infections, 3/(P)), label='Predicted Infections w/ k=3/P')\n",
    "plt.plot(new_infections(np_new_infections, 3/(P*100)), label='Predicted Infections w/ k=3/100P')\n",
    "\n",
    "plt.plot(range(251), [40000 for i in range (251)], label='Healthcare Capacity')\n",
    "\n",
    "plt.xlabel('Time')\n",
    "plt.ylabel('Infections')\n",
    "\n",
    "plt.legend()\n",
    "plt.show()"
   ]
  },
  {
   "cell_type": "markdown",
   "metadata": {},
   "source": [
    "### What needed to change?\n",
    "We need to use numpy's exponential function instead of math's."
   ]
  },
  {
   "cell_type": "markdown",
   "metadata": {},
   "source": [
    "### Exercise 4 - Mean of random numbers\n",
    "\n",
    "Generate 100 random values between 0 and 1 (uniformly distributed) and plot them. Then calculate the mean value of the first i values for $i=1,\\ldots,100$ and plot this list too.\n",
    "\n",
    "To solve the exercise find out how to generate random values with Numpy! How did you find an answer? Which possible ways are there? List at least ***2 to 5 different ways*** to look up what a numpy function does!\n",
    "\n",
    "Note: To solve this exercise, a list comprehension is necessary. Pure Numpy is faster, but probably not a good idea here."
   ]
  },
  {
   "cell_type": "code",
   "execution_count": 80,
   "metadata": {},
   "outputs": [
    {
     "data": {
      "text/plain": [
       "<matplotlib.legend.Legend at 0x188712c15c8>"
      ]
     },
     "execution_count": 80,
     "metadata": {},
     "output_type": "execute_result"
    },
    {
     "data": {
      "image/png": "[encoded data removed]",
      "text/plain": [
       "<Figure size 432x288 with 1 Axes>"
      ]
     },
     "metadata": {
      "needs_background": "light"
     },
     "output_type": "display_data"
    }
   ],
   "source": [
    "def mean_value(list_random_values):\n",
    "    mean_value = sum(list_random_values) / len(list_random_values)\n",
    "    return mean_value\n",
    "\n",
    "random_values = []\n",
    "for i in range(100):\n",
    "    random_values.append(random.random())\n",
    "\n",
    "mean_values = []\n",
    "for i in range(len(random_values)):\n",
    "    mean_values.append(mean_value(random_values[0:i+1]))\n",
    "    \n",
    "plt.plot(random_values, 'o')\n",
    "plt.plot(mean_values, label='Mean')\n",
    "plt.legend()"
   ]
  },
  {
   "cell_type": "markdown",
   "metadata": {},
   "source": [
    "### Ways to find out what a function does\n",
    "* Official documentation: https://numpy.org/doc/\n",
    "* With Python's help function: e.g. help(np.array)\n",
    "* Forums, such as Stackoverflow: https://stackoverflow.com/questions/tagged/numpy"
   ]
  }
 ],
 "metadata": {
  "kernelspec": {
   "display_name": "Python 3",
   "language": "python",
   "name": "python3"
  },
  "language_info": {
   "codemirror_mode": {
    "name": "ipython",
    "version": 3
   },
   "file_extension": ".py",
   "mimetype": "text/x-python",
   "name": "python",
   "nbconvert_exporter": "python",
   "pygments_lexer": "ipython3",
   "version": "3.7.7"
  }
 },
 "nbformat": 4,
 "nbformat_minor": 4
}
