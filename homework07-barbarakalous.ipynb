{
 "cells": [
  {
   "cell_type": "markdown",
   "metadata": {},
   "source": [
    "# Homework 07"
   ]
  },
  {
   "cell_type": "markdown",
   "metadata": {},
   "source": [
    "### Preparation...\n",
    "\n",
    "Run this code from the lecture to be ready for the exercises below!"
   ]
  },
  {
   "cell_type": "code",
   "execution_count": 1,
   "metadata": {},
   "outputs": [],
   "source": [
    "import glob\n",
    "import os.path\n",
    "\n",
    "import numpy as np\n",
    "import pandas as pd\n",
    "import matplotlib.pyplot as plt\n",
    "\n",
    "\n",
    "from sklearn import datasets, linear_model, ensemble, neural_network\n",
    "from sklearn.metrics import mean_squared_error, r2_score\n",
    "from sklearn.model_selection import train_test_split\n",
    "\n",
    "from pathlib import Path"
   ]
  },
  {
   "cell_type": "code",
   "execution_count": 5,
   "metadata": {},
   "outputs": [],
   "source": [
    "CONFIG_FILE = 'C:/Users/barba/entso/entsoe-data/entsoe-data.config'\n",
    "\n",
    "if not os.path.exists(CONFIG_FILE):\n",
    "    download_dir = input('Path to ENTSO-E data folder: ')\n",
    "    if not os.path.isdir(download_dir):\n",
    "        raise RuntimeError(f'Invalid download_dir, please run cell again: {download_dir}')\n",
    "    with open(CONFIG_FILE, 'w') as f:\n",
    "        f.write(download_dir)\n",
    "else:\n",
    "    with open(CONFIG_FILE) as f:\n",
    "        download_dir = f.read()\n",
    "        \n",
    "# Clear the output after this cell if you want to aovid having your path in the notebook (or execute it twice)!"
   ]
  },
  {
   "cell_type": "code",
   "execution_count": 3,
   "metadata": {},
   "outputs": [
    {
     "name": "stdout",
     "output_type": "stream",
     "text": [
      "Concatenating 68 csv files...\n",
      "Loading done.\n"
     ]
    }
   ],
   "source": [
    "def read_single_csv_entso_e(file):\n",
    "    return pd.read_csv(file, sep='\\t', encoding='utf-16', parse_dates=[\"DateTime\"])\n",
    "\n",
    "\n",
    "def load_complete_entso_e_data(directory):\n",
    "    pattern = Path(directory) / '*.csv'\n",
    "    files = glob.glob(str(pattern))\n",
    "\n",
    "    if not files:\n",
    "        raise ValueError(f\"No files found when searching in {pattern}, wrong directory?\")\n",
    "    \n",
    "    print(f'Concatenating {len(files)} csv files...')\n",
    "\n",
    "    each_csv_file = [read_single_csv_entso_e(file) for file in files]\n",
    "    data = pd.concat(each_csv_file, ignore_index=True)\n",
    "\n",
    "    data = data.sort_values(by=[\"AreaName\", \"DateTime\"])\n",
    "    data = data.set_index(\"DateTime\")\n",
    "\n",
    "    print(\"Loading done.\")\n",
    "\n",
    "    return data\n",
    "\n",
    "\n",
    "power_demand = load_complete_entso_e_data(download_dir)"
   ]
  },
  {
   "cell_type": "code",
   "execution_count": 4,
   "metadata": {},
   "outputs": [],
   "source": [
    "def get_hourly_country_data(data, country):\n",
    "    ret_data = data[data[\"AreaName\"] == country].interpolate()\n",
    "    #ret_data = ret_data.set_index(\"DateTime\")\n",
    "    ret_data = ret_data.resample(\"1h\").mean().interpolate()\n",
    "    return ret_data\n",
    "\n",
    "power_demand_at_hourly = get_hourly_country_data(power_demand, \"Austria\")[\"2015-01-01\":\"2019-12-31\"]"
   ]
  },
  {
   "cell_type": "markdown",
   "metadata": {},
   "source": [
    "## Exercise 1\n",
    "\n",
    "Explain the following terms:\n",
    "\n",
    "**Input feature:** < vriable given in a function bevore training >\n",
    "\n",
    "**Output feature:** < variable we want to know, with the given infut features and the training >\n",
    "\n",
    "**Fit a function to data:** < find the best function that represents the data >\n",
    "\n",
    "**Training data:** < part of data to train the model to predict future outcomes >\n",
    "\n",
    "**Test data:** < Part of data to check how accurate the training data is >\n",
    "\n",
    "\n",
    "    "
   ]
  },
  {
   "cell_type": "markdown",
   "metadata": {},
   "source": [
    "## Exercise 2\n",
    "\n",
    "In lecture07 we created a plot of the ratio of actual load and predicted load for Austria step by step (Exercise 04). Now put all of this together in one function which takes one parameter `country` as input and calculates and plots the figure of Exercise 04 for this country! The model should be trained on 2015-2019 data and then you should predict for 2020 and compare it to observations. Also do a training/test split and print the R2 for both datasets.\n",
    "\n",
    "Apply the function to the following countries and show the results in one plot: Austria, Germany, Switzerland, Italy, Spain, Sweden, United Kingdom.\n",
    "\n",
    "(1) Print the country name. Get the data for the specific country using ```get_hourly_country_data``` from the lecture and extract two periods, i.e 2015-2019 and 2020 in two separate dataframes.\n",
    "\n",
    "(2) Define X (the input features, i.e. the indicators for time) and Y (i.e. the output feature, the electricity load). Observe that for training, we use the period 2015-2019.\n",
    "\n",
    "(3) Do a train/test split\n",
    "\n",
    "(4) Fit the input features to the output feature using a ```RandomForestRegressor```\n",
    "\n",
    "(5) Predict the output with the training data and the test data and compute the R^2 for both!\n",
    "\n",
    "(6) Print the R^2.\n",
    "\n",
    "(7) Create a new variable ```X_2020``` which contains the input features for the year 2020.\n",
    "\n",
    "(8) Predict with your model the load for 2020.\n",
    "\n",
    "(9) Assign your prediction back to the dataframe in a new column and calculate the monthly mean for prediction and for observed load. You might need to copy the dataframe first by doing something like `power_demand_hourly = power_demand_hourly.copy()` (otherwise it might be just a slice of the complete time range and then you can't add a column for some rows only).\n",
    "\n",
    "(10) Plot the ratio of load and prediction. With ```label=country```, you can add a label to your plot for making a legend.\n",
    "\n",
    "(11) Execute the function for the following countries: Austria, Germany, Switzerland, Italy, Spain, Sweden, United Kingdom.\n",
    "\n",
    "(12) After calling the functions, use ```plt.legend()``` to show a legend."
   ]
  },
  {
   "cell_type": "code",
   "execution_count": 59,
   "metadata": {},
   "outputs": [],
   "source": [
    "def whatever(country):\n",
    "    #1\n",
    "    print(country)\n",
    "    power_demand_hourly_1 = get_hourly_country_data(power_demand, country)['2015-01-01':'2019-12-31']\n",
    "    power_demand_hourly_2 = get_hourly_country_data(power_demand, country)['2020-01-01':]\n",
    "    #2\n",
    "    Y = power_demand_hourly_1[\"TotalLoadValue\"].values #output\n",
    "    X = np.array([power_demand_hourly_1.index.dayofyear.values,\n",
    "     power_demand_hourly_1.index.weekday.values,\n",
    "     power_demand_hourly_1.index.hour.values]).T #input\n",
    "    #3/4\n",
    "    X_training, X_test, Y_training, Y_test = train_test_split(X, Y, test_size=0.2)\n",
    "    forest_split_set = ensemble.RandomForestRegressor()\n",
    "    forest_split_set.fit(X_training, Y_training)\n",
    "    #5\n",
    "    prediction_training = forest_split_set.predict(X_training)\n",
    "    prediction_test = forest_split_set.predict(X_test)\n",
    "    #6\n",
    "    r2_training = r2_score(Y_training, prediction_training)\n",
    "    print(r2_training)\n",
    "    r2_test = r2_score(Y_test, prediction_test) \n",
    "    print(r2_test)\n",
    "    #7\n",
    "    X_2020 = np.array([power_demand_hourly_2.index.dayofyear.values,\n",
    "     power_demand_hourly_2.index.weekday.values,\n",
    "     power_demand_hourly_2.index.hour.values]).T\n",
    "    #8\n",
    "    power_demand_hourly_2['prediction_2020'] = forest_split_set.predict(X_2020)\n",
    "    #9\n",
    "    power_demand_hourly_1 = power_demand_hourly_1.copy()\n",
    "    power_demand_hourly_2 = power_demand_hourly_2.copy()\n",
    "    proportion = power_demand_hourly_2.TotalLoadValue.resample(\"1m\").mean() / power_demand_hourly_2.prediction_2020.resample(\"1m\").mean()\n",
    "    proportion.plot(label = country)\n",
    "    plt.legend()\n",
    "    return (r2_training, r2_test)\n",
    "  \n",
    "    "
   ]
  },
  {
   "cell_type": "code",
   "execution_count": 60,
   "metadata": {},
   "outputs": [
    {
     "name": "stdout",
     "output_type": "stream",
     "text": [
      "Austria\n",
      "0.9923220707970162\n",
      "0.9384059075505923\n",
      "Germany\n",
      "0.9937706614216186\n",
      "0.95301673795851\n",
      "Switzerland\n",
      "0.9822663280258428\n",
      "0.8732120802251881\n",
      "Italy\n",
      "0.9961457386767109\n",
      "0.9717902946989849\n",
      "Spain\n",
      "0.9926597153220303\n",
      "0.9450076538785372\n",
      "Sweden\n",
      "0.9926469482992167\n",
      "0.9436099055467482\n",
      "United Kingdom\n",
      "0.97695823002159\n",
      "0.846958725591788\n"
     ]
    },
    {
     "data": {
      "image/png": "[encoded data removed]",
      "text/plain": [
       "<Figure size 432x288 with 1 Axes>"
      ]
     },
     "metadata": {
      "needs_background": "light"
     },
     "output_type": "display_data"
    }
   ],
   "source": [
    "country_list = [\"Austria\", \"Germany\", \"Switzerland\", \"Italy\", \"Spain\", \"Sweden\", \"United Kingdom\"]\n",
    "\n",
    "for country in country_list:\n",
    "    r2_training, r2_test = whatever(country)\n",
    "    r2.append([r2_training, r2_test])\n"
   ]
  },
  {
   "cell_type": "markdown",
   "metadata": {},
   "source": [
    "## Exercise 3\n",
    "Answer the following questions:"
   ]
  },
  {
   "cell_type": "markdown",
   "metadata": {},
   "source": [
    "(1) Which country had the strongest decline in electricity consumption?"
   ]
  },
  {
   "cell_type": "markdown",
   "metadata": {},
   "source": [
    "< Italy and United Kingdom >"
   ]
  },
  {
   "cell_type": "markdown",
   "metadata": {},
   "source": [
    "(2) For which country does the fit work best?"
   ]
  },
  {
   "cell_type": "code",
   "execution_count": 61,
   "metadata": {},
   "outputs": [],
   "source": [
    "difference = r2_training - r2_test"
   ]
  },
  {
   "cell_type": "markdown",
   "metadata": {},
   "source": [
    "< it worked best for Italy >"
   ]
  },
  {
   "cell_type": "markdown",
   "metadata": {},
   "source": [
    "(3) Where is the difference of R2 between training data and test data the largest? What does that mean?"
   ]
  },
  {
   "cell_type": "markdown",
   "metadata": {},
   "source": [
    "< in the UK, doesn't fit that good. The real data for 2020 looks different than our predictet one >"
   ]
  },
  {
   "cell_type": "markdown",
   "metadata": {},
   "source": [
    "(4) Look into the data of the country with the largest difference in the R2 of the training and the test data. Can you explain what is happening there? Might this effect our model?"
   ]
  },
  {
   "cell_type": "code",
   "execution_count": 62,
   "metadata": {},
   "outputs": [
    {
     "data": {
      "text/plain": [
       "<matplotlib.axes._subplots.AxesSubplot at 0x150f23f35c8>"
      ]
     },
     "execution_count": 62,
     "metadata": {},
     "output_type": "execute_result"
    },
    {
     "data": {
      "image/png": "[encoded data removed]",
      "text/plain": [
       "<Figure size 432x288 with 1 Axes>"
      ]
     },
     "metadata": {
      "needs_background": "light"
     },
     "output_type": "display_data"
    }
   ],
   "source": [
    "power_demand_uk = get_hourly_country_data(power_demand, \"United Kingdom\")[\"2015-01-01\":\"2019-12-31\"]\n",
    "power_demand_uk.TotalLoadValue.plot()"
   ]
  },
  {
   "cell_type": "markdown",
   "metadata": {},
   "source": [
    "< There is some data missing. In the function 'get_hourly_country_data(data, country)' we interpolated so we have at least something to work with, but it is not the same like having real data. Especially beacue it is quite a big gap >"
   ]
  },
  {
   "cell_type": "markdown",
   "metadata": {},
   "source": [
    "## Exercise 4"
   ]
  },
  {
   "cell_type": "markdown",
   "metadata": {},
   "source": [
    "The difference between model prediction and actual observation may help understanding how people behaved during the lockdown. In this exercise, you should come up with your own hypothesis of how people behaved and how this affected power consumption. You may, e.g., look into demand on different weekdays or in different hours. Once you have a hypothesis and a theory, why this hypothesis may be valid, test it with the model: is your hypothesis covered by what you observe in the load data?"
   ]
  },
  {
   "cell_type": "markdown",
   "metadata": {},
   "source": [
    "## Exercise 5\n",
    "\n",
    "Download ERA5 temperature data for the next lecture.\n",
    "\n",
    "First install necessary dependencies `xarray` and `cdsapi`:"
   ]
  },
  {
   "cell_type": "code",
   "execution_count": null,
   "metadata": {},
   "outputs": [],
   "source": [
    "# https://www.youtube.com/watch?v=cVtiVTSVdlo "
   ]
  },
  {
   "cell_type": "code",
   "execution_count": 7,
   "metadata": {},
   "outputs": [
    {
     "ename": "SyntaxError",
     "evalue": "invalid syntax (<ipython-input-7-8443abbc0872>, line 1)",
     "output_type": "error",
     "traceback": [
      "\u001b[1;36m  File \u001b[1;32m\"<ipython-input-7-8443abbc0872>\"\u001b[1;36m, line \u001b[1;32m1\u001b[0m\n\u001b[1;33m    conda install --yes xarray\u001b[0m\n\u001b[1;37m                ^\u001b[0m\n\u001b[1;31mSyntaxError\u001b[0m\u001b[1;31m:\u001b[0m invalid syntax\n"
     ]
    }
   ],
   "source": [
    "conda install --yes xarray\n",
    "conda install --yes -c conda-forge cdsapi"
   ]
  },
  {
   "cell_type": "markdown",
   "metadata": {},
   "source": [
    "The [Copernicus Climate Data Store](https://cds.climate.copernicus.eu/) provides [reanalysis climate data](https://cds.climate.copernicus.eu/cdsapp#!/search?type=dataset&keywords=((%20%22Product%20type:%20Reanalysis%22%20))). We are going to download [ERA5](https://cds.climate.copernicus.eu/cdsapp#!/dataset/reanalysis-era5-land?tab=form) data and use the [temperature 2m above ground values](https://apps.ecmwf.int/codes/grib/param-db?id=167)."
   ]
  },
  {
   "cell_type": "markdown",
   "metadata": {},
   "source": [
    "Register for the CDS API and install the API key by following [this guide](https://cds.climate.copernicus.eu/api-how-to). You don't need to run `pip install cdsapi`, this has been done in the cell above already using conda."
   ]
  },
  {
   "cell_type": "code",
   "execution_count": 9,
   "metadata": {},
   "outputs": [],
   "source": [
    "import cdsapi\n",
    "\n",
    "c = cdsapi.Client()"
   ]
  },
  {
   "cell_type": "code",
   "execution_count": 10,
   "metadata": {},
   "outputs": [],
   "source": [
    "# Add the path to the lecture repository here:\n",
    "PATH_TO_LECTURE_REPO = 'C:/Users/barba/lecture-scientific-computing'\n",
    "\n",
    "if not os.path.isdir(Path(PATH_TO_LECTURE_REPO) / 'lecture00-introduction'):\n",
    "    raise RuntimeError(f\"Wrong path to lecture repository: PATH_TO_LECTURE_REPO = {PATH_TO_LECTURE_REPO}\")"
   ]
  },
  {
   "cell_type": "markdown",
   "metadata": {},
   "source": [
    "We'll download data from 2015 to 2020 in a bounding box which covers all countries we used so far for our analysis.\n",
    "To make the download a bit faster, we'll use a [0.5° grid](https://confluence.ecmwf.int/display/CKB/ERA5%3A+Web+API+to+CDS+API) instead of the 0.1° grid. This will download approximately 500MB. The download might take a couple of hours, because the data is prepared on their servers before it can be downloaded."
   ]
  },
  {
   "cell_type": "code",
   "execution_count": 12,
   "metadata": {},
   "outputs": [
    {
     "name": "stderr",
     "output_type": "stream",
     "text": [
      "2020-06-02 22:00:46,060 INFO Welcome to the CDS\n",
      "2020-06-02 22:00:46,061 INFO Sending request to https://cds.climate.copernicus.eu/api/v2/resources/reanalysis-era5-land\n",
      "2020-06-02 22:00:46,453 INFO Request is completed\n",
      "2020-06-02 22:00:46,454 INFO Downloading http://136.156.133.42/cache-compute-0014/cache/data8/adaptor.mars.internal-1591007356.594523-14982-19-e36abd38-33ae-4fe1-b9c1-f5d6ae9c28c4.nc to C:\\Users\\barba\\lecture-scientific-computing\\data\\temperatures_era5.nc.part (473.2M)\n",
      "2020-06-02 22:02:25,701 INFO Download rate 4.8M/s                                                                      \n"
     ]
    }
   ],
   "source": [
    "filename = Path(PATH_TO_LECTURE_REPO) / 'data' / 'temperatures_era5.nc'\n",
    "\n",
    "north, west, south, east = 70.,-13.5, 35.5, 24.5\n",
    "\n",
    "c.retrieve(\n",
    "    'reanalysis-era5-land',\n",
    "    {\n",
    "        'format': 'netcdf',\n",
    "        'variable': '2m_temperature',\n",
    "        'area': [\n",
    "            north, west, south, east\n",
    "        ],\n",
    "        'grid': [0.5, 0.5],  # grid in 0.5deg steps in longitude/latitude\n",
    "        'day': [f\"{day:02d}\" for day in range(1, 32)],\n",
    "        'time': [f\"{hour:02d}:00\" for hour in range(24)],\n",
    "        'month': [f\"{month:02d}\" for month in range(1, 13)],\n",
    "        'year': [str(year) for year in range(2015, 2021)],\n",
    "    },\n",
    "    f\"{filename}.part\")\n",
    "\n",
    "# this prevents you from accidentally using broken files:\n",
    "os.rename(f\"{filename}.part\", filename)"
   ]
  },
  {
   "cell_type": "markdown",
   "metadata": {},
   "source": [
    "## Exercise 6\n",
    "\n",
    "Load the file downloaded in exercise 3 and plot the temperature for one location. This is also a test if the download was successful. To load the file import the library `xarray`. Typically it is imported by using `import xarray as xr`. Then load the file using the command `xr.load_dataset(filename)`. Check the type of the return value. Then select the data variable `t2m` (temperature at 2m), select the values for `longitude=16.5` and `latitude=48` by using `temperatures_dataset.t2m.sel(longitude=16.5, latitude=48.)`. Then plot the result by calling `.plot()` on the resulting object.\n",
    "\n",
    "Does the result look reasonable?"
   ]
  },
  {
   "cell_type": "code",
   "execution_count": 35,
   "metadata": {},
   "outputs": [],
   "source": [
    "import xarray as xr\n",
    "dataset = xr.load_dataset('C:.../temperatures_era5.nc')"
   ]
  },
  {
   "cell_type": "code",
   "execution_count": 36,
   "metadata": {},
   "outputs": [
    {
     "data": {
      "text/plain": [
       "xarray.core.dataset.Dataset"
      ]
     },
     "execution_count": 36,
     "metadata": {},
     "output_type": "execute_result"
    }
   ],
   "source": [
    "type(dataset)"
   ]
  },
  {
   "cell_type": "code",
   "execution_count": 38,
   "metadata": {},
   "outputs": [
    {
     "data": {
      "text/plain": [
       "[<matplotlib.lines.Line2D at 0x15066c40b08>]"
      ]
     },
     "execution_count": 38,
     "metadata": {},
     "output_type": "execute_result"
    },
    {
     "data": {
      "image/png": "[encoded data removed]",
      "text/plain": [
       "<Figure size 432x288 with 1 Axes>"
      ]
     },
     "metadata": {
      "needs_background": "light"
     },
     "output_type": "display_data"
    }
   ],
   "source": [
    "dataset.t2m.sel(longitude=16.5, latitude=48.).plot()"
   ]
  },
  {
   "cell_type": "code",
   "execution_count": null,
   "metadata": {},
   "outputs": [],
   "source": []
  }
 ],
 "metadata": {
  "kernelspec": {
   "display_name": "Python 3",
   "language": "python",
   "name": "python3"
  },
  "language_info": {
   "codemirror_mode": {
    "name": "ipython",
    "version": 3
   },
   "file_extension": ".py",
   "mimetype": "text/x-python",
   "name": "python",
   "nbconvert_exporter": "python",
   "pygments_lexer": "ipython3",
   "version": "3.7.6"
  }
 },
 "nbformat": 4,
 "nbformat_minor": 4
}
